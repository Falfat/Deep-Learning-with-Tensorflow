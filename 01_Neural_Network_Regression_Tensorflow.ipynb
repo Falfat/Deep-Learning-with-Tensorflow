{
  "nbformat": 4,
  "nbformat_minor": 0,
  "metadata": {
    "colab": {
      "name": "01_Neural_Network_Regression_Tensorflow.ipynb",
      "provenance": [],
      "collapsed_sections": []
    },
    "kernelspec": {
      "name": "python3",
      "display_name": "Python 3"
    },
    "language_info": {
      "name": "python"
    }
  },
  "cells": [
    {
      "cell_type": "markdown",
      "metadata": {
        "id": "G10P-3Kcjt68"
      },
      "source": [
        "# Introduction to Regression with Neural Network in Tensorflow\n",
        "\n",
        "Regression is predicting a numerical variable based on some combination of variables. Or simply, predicting a number"
      ]
    },
    {
      "cell_type": "code",
      "metadata": {
        "colab": {
          "base_uri": "https://localhost:8080/"
        },
        "id": "e_Ozxyyj-86S",
        "outputId": "f169527f-bad1-44de-9c68-0cb775720dac"
      },
      "source": [
        "#import required libraries\n",
        "import tensorflow as tf\n",
        "import numpy as np\n",
        "import matplotlib.pyplot as plt\n",
        "print(tf.__version__)"
      ],
      "execution_count": 1,
      "outputs": [
        {
          "output_type": "stream",
          "name": "stdout",
          "text": [
            "2.6.0\n"
          ]
        }
      ]
    },
    {
      "cell_type": "code",
      "metadata": {
        "colab": {
          "base_uri": "https://localhost:8080/",
          "height": 286
        },
        "id": "I9LG94dW-89Y",
        "outputId": "d8bd2fac-48bc-4daa-a33b-beb9777af7a1"
      },
      "source": [
        "# create features\n",
        "X = np.array([-7, -4, -1, 2, 5, 8, 11, 14])\n",
        "\n",
        "#create labels \n",
        "y = np.array([3, 6, 9, 12, 15, 18, 21, 24])\n",
        "\n",
        "#visualize \n",
        "plt.scatter(X, y)"
      ],
      "execution_count": 2,
      "outputs": [
        {
          "output_type": "execute_result",
          "data": {
            "text/plain": [
              "<matplotlib.collections.PathCollection at 0x7fba0e544850>"
            ]
          },
          "metadata": {},
          "execution_count": 2
        },
        {
          "output_type": "display_data",
          "data": {
            "image/png": "[encoded data removed]",
            "text/plain": [
              "<Figure size 432x288 with 1 Axes>"
            ]
          },
          "metadata": {
            "needs_background": "light"
          }
        }
      ]
    },
    {
      "cell_type": "code",
      "metadata": {
        "colab": {
          "base_uri": "https://localhost:8080/"
        },
        "id": "75XAVBVr-9AZ",
        "outputId": "855a5842-0dd6-4cab-9477-cb603026afd9"
      },
      "source": [
        "#relationship between X and y, that we want out NN to learn\n",
        "y == X + 10"
      ],
      "execution_count": 3,
      "outputs": [
        {
          "output_type": "execute_result",
          "data": {
            "text/plain": [
              "array([ True,  True,  True,  True,  True,  True,  True,  True])"
            ]
          },
          "metadata": {},
          "execution_count": 3
        }
      ]
    },
    {
      "cell_type": "markdown",
      "metadata": {
        "id": "i_PrFWHo-9DQ"
      },
      "source": [
        "### Input and Output shapes"
      ]
    },
    {
      "cell_type": "code",
      "metadata": {
        "colab": {
          "base_uri": "https://localhost:8080/"
        },
        "id": "rhhHCo_a-9GQ",
        "outputId": "bcb99de2-8447-4396-fb86-497802b498ff"
      },
      "source": [
        "# create a demo tensor for housing price prediction problem\n",
        "house_info = tf.constant(['bedroom', 'bathroom', 'garage'])\n",
        "house_price = tf.constant([939700])\n",
        "house_info, house_price"
      ],
      "execution_count": 4,
      "outputs": [
        {
          "output_type": "execute_result",
          "data": {
            "text/plain": [
              "(<tf.Tensor: shape=(3,), dtype=string, numpy=array([b'bedroom', b'bathroom', b'garage'], dtype=object)>,\n",
              " <tf.Tensor: shape=(1,), dtype=int32, numpy=array([939700], dtype=int32)>)"
            ]
          },
          "metadata": {},
          "execution_count": 4
        }
      ]
    },
    {
      "cell_type": "code",
      "metadata": {
        "colab": {
          "base_uri": "https://localhost:8080/"
        },
        "id": "UegcMTaM-9JQ",
        "outputId": "e5ed732a-d2c5-45cf-f8a5-0817cdd5cbac"
      },
      "source": [
        "input_shape = X[0].shape\n",
        "output_shape = y[0].shape\n",
        "input_shape, output_shape #it is empty because our tensor is a scalar"
      ],
      "execution_count": 5,
      "outputs": [
        {
          "output_type": "execute_result",
          "data": {
            "text/plain": [
              "((), ())"
            ]
          },
          "metadata": {},
          "execution_count": 5
        }
      ]
    },
    {
      "cell_type": "code",
      "metadata": {
        "colab": {
          "base_uri": "https://localhost:8080/"
        },
        "id": "DZGI4U6u-9MY",
        "outputId": "5837a2a2-d1fc-4a53-d65f-5d53c68e63bd"
      },
      "source": [
        "#Turn the np arrays into tensor\n",
        "X = tf.constant(X)\n",
        "y = tf.constant(y)\n",
        "X, y"
      ],
      "execution_count": 6,
      "outputs": [
        {
          "output_type": "execute_result",
          "data": {
            "text/plain": [
              "(<tf.Tensor: shape=(8,), dtype=int64, numpy=array([-7, -4, -1,  2,  5,  8, 11, 14])>,\n",
              " <tf.Tensor: shape=(8,), dtype=int64, numpy=array([ 3,  6,  9, 12, 15, 18, 21, 24])>)"
            ]
          },
          "metadata": {},
          "execution_count": 6
        }
      ]
    },
    {
      "cell_type": "code",
      "metadata": {
        "colab": {
          "base_uri": "https://localhost:8080/"
        },
        "id": "849RaTtB-9Ph",
        "outputId": "f232dccd-f280-4635-840a-33797d5957d1"
      },
      "source": [
        "input_shape = X[0].shape\n",
        "output_shape = y[0].shape\n",
        "input_shape, output_shape #it is empty because our tensor is a scalar"
      ],
      "execution_count": 7,
      "outputs": [
        {
          "output_type": "execute_result",
          "data": {
            "text/plain": [
              "(TensorShape([]), TensorShape([]))"
            ]
          },
          "metadata": {},
          "execution_count": 7
        }
      ]
    },
    {
      "cell_type": "code",
      "metadata": {
        "colab": {
          "base_uri": "https://localhost:8080/",
          "height": 286
        },
        "id": "unqtNkgz-9So",
        "outputId": "f436d5d3-c35b-45d4-e9d0-a94b42184547"
      },
      "source": [
        "plt.scatter(X, y)"
      ],
      "execution_count": 8,
      "outputs": [
        {
          "output_type": "execute_result",
          "data": {
            "text/plain": [
              "<matplotlib.collections.PathCollection at 0x7fba0e526210>"
            ]
          },
          "metadata": {},
          "execution_count": 8
        },
        {
          "output_type": "display_data",
          "data": {
            "image/png": "[encoded data removed]",
            "text/plain": [
              "<Figure size 432x288 with 1 Axes>"
            ]
          },
          "metadata": {
            "needs_background": "light"
          }
        }
      ]
    },
    {
      "cell_type": "markdown",
      "metadata": {
        "id": "vpLb-FcS-9WY"
      },
      "source": [
        "### Steps in modelling with tensorflow\n",
        "\n",
        "1. **Creating a model**: define the input and output layers, as well as hidden layers of the DL model\n",
        "2. **Compile the model**: define the loss function (the function that teslls our model how wrong it is) and the optimizer (tells the model how to improve the pattern it is learning), and evaluation metrics (used to interpret the performamce of our model.)\n",
        "3. **Fitting the mode**l: Letting the model find pattern between the features and labels."
      ]
    },
    {
      "cell_type": "code",
      "metadata": {
        "colab": {
          "base_uri": "https://localhost:8080/"
        },
        "id": "PnmeLOrjCmTx",
        "outputId": "dd21ad06-710d-444c-af7c-91fcb4c6addc"
      },
      "source": [
        "#SET SEED\n",
        "tf.random.set_seed(42)\n",
        "\n",
        "#create a model using the sequential API\n",
        "model = tf.keras.Sequential([tf.keras.layers.Dense(1)]) #one hidden layer with a single neuron\n",
        "\n",
        "#\n",
        "#compile model\n",
        "model.compile(loss=tf.keras.losses.mae, optimizer=tf.keras.optimizers.SGD(), metrics =['mae'])\n",
        "\n",
        "#fit the model\n",
        "model.fit(X, y, epochs=5)"
      ],
      "execution_count": 9,
      "outputs": [
        {
          "output_type": "stream",
          "name": "stdout",
          "text": [
            "Epoch 1/5\n",
            "1/1 [==============================] - 1s 593ms/step - loss: 11.5048 - mae: 11.5048\n",
            "Epoch 2/5\n",
            "1/1 [==============================] - 0s 5ms/step - loss: 11.3723 - mae: 11.3723\n",
            "Epoch 3/5\n",
            "1/1 [==============================] - 0s 6ms/step - loss: 11.2398 - mae: 11.2398\n",
            "Epoch 4/5\n",
            "1/1 [==============================] - 0s 7ms/step - loss: 11.1073 - mae: 11.1073\n",
            "Epoch 5/5\n",
            "1/1 [==============================] - 0s 7ms/step - loss: 10.9748 - mae: 10.9748\n"
          ]
        },
        {
          "output_type": "execute_result",
          "data": {
            "text/plain": [
              "<keras.callbacks.History at 0x7fba11760490>"
            ]
          },
          "metadata": {},
          "execution_count": 9
        }
      ]
    },
    {
      "cell_type": "code",
      "metadata": {
        "colab": {
          "base_uri": "https://localhost:8080/"
        },
        "id": "mz8zAECDCmW3",
        "outputId": "f2cfd101-0f8d-480e-996d-749bc37f827c"
      },
      "source": [
        "#check out X and y\n",
        "X, y"
      ],
      "execution_count": 10,
      "outputs": [
        {
          "output_type": "execute_result",
          "data": {
            "text/plain": [
              "(<tf.Tensor: shape=(8,), dtype=int64, numpy=array([-7, -4, -1,  2,  5,  8, 11, 14])>,\n",
              " <tf.Tensor: shape=(8,), dtype=int64, numpy=array([ 3,  6,  9, 12, 15, 18, 21, 24])>)"
            ]
          },
          "metadata": {},
          "execution_count": 10
        }
      ]
    },
    {
      "cell_type": "code",
      "metadata": {
        "id": "oVf6U1f0CmaP"
      },
      "source": [
        "#try to make predicition\n",
        "y_pred = model.predict([17.0])"
      ],
      "execution_count": 11,
      "outputs": []
    },
    {
      "cell_type": "code",
      "metadata": {
        "colab": {
          "base_uri": "https://localhost:8080/"
        },
        "id": "Rt_hid9FCmdH",
        "outputId": "71c2c75a-083d-4cb2-b5f0-270a292ce424"
      },
      "source": [
        "y_pred + 11\n",
        "#The model is wrong (even after adding the mae), thus we need to improve it"
      ],
      "execution_count": 12,
      "outputs": [
        {
          "output_type": "execute_result",
          "data": {
            "text/plain": [
              "array([[23.71602]], dtype=float32)"
            ]
          },
          "metadata": {},
          "execution_count": 12
        }
      ]
    },
    {
      "cell_type": "markdown",
      "metadata": {
        "id": "Lm7YsOuqCmf6"
      },
      "source": [
        "### Improve the model\n",
        "\n",
        "The model can be improved by altering any of the 3 steps involved.\n",
        "\n",
        "1. **In creating of mode**: we can add more layers, increase the number of neutrons in the hidden layer/s, change activation function of each layer.\n",
        "2. **Compiling a model**: change the optimization function or perhaps the learning rate o the optimisation function\n",
        "3. **Fitting a model**:  add more epochs (leave it training for longer) or on more data (give the model more examples to learn from).\n",
        "\n",
        "* The smaller model above was created to check if things work, before creating a larger model."
      ]
    },
    {
      "cell_type": "code",
      "metadata": {
        "id": "euHfBtqwCmjH"
      },
      "source": [
        "#Rebuild the model: increase the number of epochs only\n",
        "\n",
        "# create the model\n",
        "model = tf.keras.Sequential([tf.keras.layers.Dense(1)])\n",
        "\n",
        "# compile the model\n",
        "model.compile(loss='mae', optimizer='SGD', metrics =['mae'])\n",
        "\n",
        "#fit the model\n",
        "model.fit(X, y, epochs=100)"
      ],
      "execution_count": null,
      "outputs": []
    },
    {
      "cell_type": "code",
      "metadata": {
        "id": "DWMpRSITCmmg"
      },
      "source": [
        "#check the prediction from the model\n",
        "model.predict([17]) \n",
        "#a better prediction than the previous"
      ],
      "execution_count": null,
      "outputs": []
    },
    {
      "cell_type": "code",
      "metadata": {
        "id": "wwS0RaQOCmpw"
      },
      "source": [
        "#Rebuild the model: increase the number of hidden layers\n",
        "\n",
        "# create the model\n",
        "model = tf.keras.Sequential([tf.keras.layers.Dense(100, activation='relu'),  \n",
        "                             tf.keras.layers.Dense(1)])\n",
        "\n",
        "# compile the model\n",
        "model.compile(loss='mae', optimizer='SGD', metrics =['mae'])\n",
        "\n",
        "#fit the model\n",
        "model.fit(X, y, epochs=100)"
      ],
      "execution_count": null,
      "outputs": []
    },
    {
      "cell_type": "code",
      "metadata": {
        "id": "ueC-nLp5Cms4"
      },
      "source": [
        "model.predict([17])\n",
        "#The model is overfitting, because the loss errors are low but prediction on new data is bad"
      ],
      "execution_count": null,
      "outputs": []
    },
    {
      "cell_type": "code",
      "metadata": {
        "id": "Mv1vAPfYCmwB"
      },
      "source": [
        "#Rebuild the model: increase the number of hidden layers\n",
        "\n",
        "# create the model\n",
        "model = tf.keras.Sequential([tf.keras.layers.Dense(50, activation=None),  \n",
        "                             tf.keras.layers.Dense(1)])\n",
        "\n",
        "# compile the model\n",
        "model.compile(loss='mae', optimizer=tf.keras.optimizers.Adam(lr=0.001), metrics =['mae'])\n",
        "\n",
        "#fit the model\n",
        "model.fit(X, y, epochs=100)"
      ],
      "execution_count": null,
      "outputs": []
    },
    {
      "cell_type": "code",
      "metadata": {
        "id": "1qs37s-kCmyv"
      },
      "source": [
        "model.predict([20])"
      ],
      "execution_count": null,
      "outputs": []
    },
    {
      "cell_type": "markdown",
      "metadata": {
        "id": "z5XecF6gCm1z"
      },
      "source": [
        "### Evaluating a model\n",
        "\n",
        "In practice, a typical workflow you'll go through when building a Neural Network is:\n",
        "\n",
        "```\n",
        "Build a model --> fit it --> evaluate it --> tweak a model --> fit it --> evaluate it -> tweak a model -> fit it -> evaluate it... \n",
        "```"
      ]
    },
    {
      "cell_type": "markdown",
      "metadata": {
        "id": "o5xAXs5u5rkf"
      },
      "source": [
        "When it comes to evaluating a model, you should try to visualize things. We can\n",
        "\n",
        "* Visualize the data\n",
        "* The model\n",
        "* The training of a model: how a model perform while it learns\n",
        "* The predictions of the model"
      ]
    },
    {
      "cell_type": "code",
      "metadata": {
        "id": "zesiEf5c573n"
      },
      "source": [
        "# make a big data set\n",
        "X = tf.range(-100, 100, 4)\n",
        "X"
      ],
      "execution_count": null,
      "outputs": []
    },
    {
      "cell_type": "code",
      "metadata": {
        "id": "mB9IKoLR576s"
      },
      "source": [
        "#make labels for the data set\n",
        "y = X + 10 #this is the pattern we want the model to learn\n",
        "y"
      ],
      "execution_count": null,
      "outputs": []
    },
    {
      "cell_type": "code",
      "metadata": {
        "id": "6QsTZOUg57-V"
      },
      "source": [
        "#visualize the data\n",
        "plt.scatter(X, y)"
      ],
      "execution_count": null,
      "outputs": []
    },
    {
      "cell_type": "code",
      "metadata": {
        "id": "w7v9xEtS58BO"
      },
      "source": [
        "### The 3 sets... (training, validation, testing)\n",
        "#Model learns from the training set. Typically 70 t0 80% of the data\n",
        "#Model is tweaked on the validation data. Typically 10 - 15% of all data\n",
        "#Test set is what the model gets evaluated on. Typically 10 - 15% of all data"
      ],
      "execution_count": null,
      "outputs": []
    },
    {
      "cell_type": "code",
      "metadata": {
        "id": "ezXKeN3X58ET"
      },
      "source": [
        "# check the length of the samples we have\n",
        "len(X)"
      ],
      "execution_count": null,
      "outputs": []
    },
    {
      "cell_type": "code",
      "metadata": {
        "id": "LKj1ErKN58HE"
      },
      "source": [
        "#split the data into train and set sets\n",
        "X_train = X[:40] #first 40 samples\n",
        "X_test =  X[40:] #last 20 samples\n",
        "\n",
        "y_train = y[:40] #first 40 samples\n",
        "y_test =  y[40:] #last 20 samples\n",
        "\n",
        "len(X_train), len(X_test), len(y_train), len(y_test)"
      ],
      "execution_count": null,
      "outputs": []
    },
    {
      "cell_type": "code",
      "metadata": {
        "id": "MFs9xnoA58KE"
      },
      "source": [
        "#Let's visualize the data again\n",
        "plt.figure(figsize=(10, 7))\n",
        "#plot the training data\n",
        "plt.scatter(X_train, y_train, c = 'b', label='Training data')\n",
        "#plot the test data\n",
        "plt.scatter(X_test, y_test, c = 'g', label='Test data')\n",
        "plt.legend()"
      ],
      "execution_count": null,
      "outputs": []
    },
    {
      "cell_type": "code",
      "metadata": {
        "id": "P48XZsln58NT"
      },
      "source": [
        "#Let's build a neural network for our data\n",
        "#create a model\n",
        "model = tf.keras.Sequential([tf.keras.layers.Dense(1)])\n",
        "\n",
        "#compile model\n",
        "model.compile(loss='mae', optimizer=tf.keras.optimizers.SGD(), metrics=['mae'])\n",
        "\n",
        "# #fit the model\n",
        "# model.fit(X_train, y_train, epochs= 100)"
      ],
      "execution_count": null,
      "outputs": []
    },
    {
      "cell_type": "code",
      "metadata": {
        "id": "-TNgPV4jCbL9"
      },
      "source": [
        "# model.summary()"
      ],
      "execution_count": null,
      "outputs": []
    },
    {
      "cell_type": "code",
      "metadata": {
        "id": "73GLfQapCFbV"
      },
      "source": [
        "X[0].shape, X[0]"
      ],
      "execution_count": null,
      "outputs": []
    },
    {
      "cell_type": "code",
      "metadata": {
        "id": "gUq7RKSh58QV"
      },
      "source": [
        "# let's create a model that builds authomatically by defining the input shape in the first layer\n",
        "# sometimes the model figures it out itself as above\n",
        "tf.random.set_seed(42)\n",
        "\n",
        "#create a model as same above\n",
        "model = tf.keras.Sequential([tf.keras.layers.Dense(10, input_shape=[1])]) #Dense means fully connected layer\n",
        "\n",
        "#compile a model\n",
        "model.compile(loss='mae', optimizer='sgd', metrics=['mae'])"
      ],
      "execution_count": null,
      "outputs": []
    },
    {
      "cell_type": "code",
      "metadata": {
        "id": "WHaG9gFl58TD"
      },
      "source": [
        "model.summary()"
      ],
      "execution_count": null,
      "outputs": []
    },
    {
      "cell_type": "markdown",
      "metadata": {
        "id": "EuiZHRvW58WF"
      },
      "source": [
        "* Total params - is the total parameters in the model\n",
        "* Trainable parameters - are the parameters the model can update as it trains. If we are doing **transfer learning**, we may want to train a few paramaters and not all. Then we will have non-trainanble parameters."
      ]
    },
    {
      "cell_type": "code",
      "metadata": {
        "id": "MnCmo5qo58ZT"
      },
      "source": [
        "# Noe let's fit the model\n",
        "# If this celll is run multiple times, the number of epochs multiplies\n",
        "model.fit(X_train, y_train, epochs= 100, verbose=0)"
      ],
      "execution_count": null,
      "outputs": []
    },
    {
      "cell_type": "code",
      "metadata": {
        "id": "E5RFlh0058cL"
      },
      "source": [
        "model.predict([100])"
      ],
      "execution_count": null,
      "outputs": []
    },
    {
      "cell_type": "code",
      "metadata": {
        "id": "N2khMUXUFjfr"
      },
      "source": [
        "model.summary()"
      ],
      "execution_count": null,
      "outputs": []
    },
    {
      "cell_type": "code",
      "metadata": {
        "id": "AX3ZSEOBGfh8"
      },
      "source": [
        "#check the structure of our model\n",
        "from tensorflow.keras.utils import plot_model\n",
        "\n",
        "plot_model(model=model, show_shapes=True)"
      ],
      "execution_count": null,
      "outputs": []
    },
    {
      "cell_type": "code",
      "metadata": {
        "id": "QuKu0_APHaTM"
      },
      "source": [
        "#create a model as same above\n",
        "model = tf.keras.Sequential([ \n",
        "                             tf.keras.layers.Dense(10, input_shape=[1], name = 'input_layer'),\n",
        "                             tf.keras.layers.Dense(1, name='output_layer')\n",
        "                            ],  name = 'random_model') #Dense means fully connected layer\n",
        "\n",
        "#compile a model\n",
        "model.compile(loss='mae', optimizer='sgd', metrics=['mae'])\n",
        "model.summary()"
      ],
      "execution_count": null,
      "outputs": []
    },
    {
      "cell_type": "code",
      "metadata": {
        "id": "Y82VFr44IYaH"
      },
      "source": [
        "model.fit(X_train, y_train, epochs= 100, verbose=0)"
      ],
      "execution_count": null,
      "outputs": []
    },
    {
      "cell_type": "code",
      "metadata": {
        "id": "NADMM41aIuqR"
      },
      "source": [
        "model.summary()"
      ],
      "execution_count": null,
      "outputs": []
    },
    {
      "cell_type": "code",
      "metadata": {
        "id": "yzUQHY1yIxQw"
      },
      "source": [
        "plot_model(model=model, show_shapes=True)"
      ],
      "execution_count": null,
      "outputs": []
    },
    {
      "cell_type": "markdown",
      "metadata": {
        "id": "0_b9OBC1I0B2"
      },
      "source": [
        "### Visualizing model predictions\n",
        "\n",
        "To visualize predictions, it is nice to plot them against the true labels. This is going to be something like `y_true` versus `y_pred`."
      ]
    },
    {
      "cell_type": "code",
      "metadata": {
        "id": "wa6xMBRCJAhI"
      },
      "source": [
        "#make predictions\n",
        "y_pred = model.predict(X_test)\n",
        "y_pred"
      ],
      "execution_count": null,
      "outputs": []
    },
    {
      "cell_type": "code",
      "metadata": {
        "id": "oj19VYrhJAjv"
      },
      "source": [
        "#let's create a plotting function\n",
        "def plot(X_train=X_train, y_train=y_train, X_test=X_test, y_test=y_test, y_pred=y_pred):\n",
        "  \"\"\" plots training data, test data and compares predictions and real values\"\"\"\n",
        "  plt.figure(figsize=(10, 7))\n",
        "  #plot the training data\n",
        "  plt.scatter(X_train, y_train, c = 'b', label='Training data')\n",
        "  #plot the test data\n",
        "  plt.scatter(X_test, y_test, c = 'g', label='Test data')\n",
        "  #plot model's predictions in red\n",
        "  plt.scatter(X_test, y_pred, c = 'r', label = 'predictions')\n",
        "  plt.legend();\n",
        "\n",
        "  return None"
      ],
      "execution_count": null,
      "outputs": []
    },
    {
      "cell_type": "code",
      "metadata": {
        "id": "2ZuNbncTJAn4"
      },
      "source": [
        "plot(X_train, y_train, X_test, y_test, y_pred)"
      ],
      "execution_count": null,
      "outputs": []
    },
    {
      "cell_type": "markdown",
      "metadata": {
        "id": "YzBWtytAJArN"
      },
      "source": [
        "### Evaluating our predictions with regression evaluation metrics\n",
        "\n",
        "The metrics to be used depends on the type of problem. Here. for regression, we can use the follwoing metrics;\n",
        "* MAE: `tf.keras.losses.MAE()`, a good starter metric for any regression model\n",
        "* MSE: `tf.keras.losses.MSE()`, used when larger errors are more significant than smaller erros\n",
        "* Huber: `tf.keras.losses.Huber()`. Takes the combination of MSE and MAE. Less sensitive to outliers than MSE"
      ]
    },
    {
      "cell_type": "code",
      "metadata": {
        "id": "parfie0pJAt-"
      },
      "source": [
        "#Evaluate the model on test data\n",
        "model.evaluate(X_test, y_test)"
      ],
      "execution_count": null,
      "outputs": []
    },
    {
      "cell_type": "code",
      "metadata": {
        "id": "mBriZR-YJAxG"
      },
      "source": [
        "#calculate the MAE\n",
        "tf.keras.losses.MAE(y_test, y_pred)"
      ],
      "execution_count": null,
      "outputs": []
    },
    {
      "cell_type": "code",
      "metadata": {
        "id": "i1pvAjRTJA0Q"
      },
      "source": [
        "#The problem from the above why it isn't giving a single value is because our y_pred is not a tensor and the dimensions are not same\n",
        "y_test"
      ],
      "execution_count": null,
      "outputs": []
    },
    {
      "cell_type": "code",
      "metadata": {
        "id": "J0KyBfp2JA3s"
      },
      "source": [
        "tf.constant(y_pred)"
      ],
      "execution_count": null,
      "outputs": []
    },
    {
      "cell_type": "code",
      "metadata": {
        "id": "qRI332QMJA6y"
      },
      "source": [
        "y_pred= tf.squeeze(y_pred)\n",
        "y_pred"
      ],
      "execution_count": null,
      "outputs": []
    },
    {
      "cell_type": "code",
      "metadata": {
        "id": "g1DAM71xJBQn"
      },
      "source": [
        "#calculate the MAE\n",
        "tf.keras.losses.MAE(y_test, y_pred)"
      ],
      "execution_count": null,
      "outputs": []
    },
    {
      "cell_type": "code",
      "metadata": {
        "id": "v-dPjLgjJBTw"
      },
      "source": [
        "#calculate the MSE\n",
        "tf.keras.losses.MSE(y_test, y_pred)"
      ],
      "execution_count": null,
      "outputs": []
    },
    {
      "cell_type": "code",
      "metadata": {
        "id": "FmPNOGZ6PW9R"
      },
      "source": [
        "#Make some functions to reuse MAE and MSE\n",
        "def mae(y_true, y_pred):\n",
        "  return tf.keras.losses.MAE(y_true=y_true, y_pred=tf.squeeze(y_pred))\n",
        "\n",
        "def mse(y_true, y_pred):\n",
        "  return tf.keras.losses.MSE(y_true=y_true, y_pred=tf.squeeze(y_pred))"
      ],
      "execution_count": null,
      "outputs": []
    },
    {
      "cell_type": "markdown",
      "metadata": {
        "id": "WcoV1TS7PZR4"
      },
      "source": [
        "### Running experiment to improve the model\n",
        "\n",
        "* More data\n",
        "* Make model larger\n",
        "* Train for longer\n",
        "\n",
        "Modeling experiments\n",
        "\n",
        "1. `Model 1` - same as original model, 1 layer, 100 epochs\n",
        "2. `Model 2` - 2 layers, for 100 epochs\n",
        "3. `Model 3` - 2 layers, 500 epochs"
      ]
    },
    {
      "cell_type": "code",
      "metadata": {
        "id": "p69Xa42EMabJ"
      },
      "source": [
        "#set random seed\n",
        "tf.random.set_seed(42)\n",
        "\n",
        "#create a model\n",
        "model_1 = tf.keras.Sequential([tf.keras.layers.Dense(1)])\n",
        "\n",
        "#compile the model\n",
        "model_1.compile(loss='mae', optimizer='sgd', metrics = 'mae')\n",
        "\n",
        "#fit the model\n",
        "model_1.fit(X_train, y_train, epochs=100)"
      ],
      "execution_count": null,
      "outputs": []
    },
    {
      "cell_type": "code",
      "metadata": {
        "id": "tG2-zfGxMaeE"
      },
      "source": [
        "#make and plot predictions for model 1\n",
        "y_pred_1 = model_1.predict(X_test)\n",
        "plot(y_pred=y_pred_1)"
      ],
      "execution_count": null,
      "outputs": []
    },
    {
      "cell_type": "code",
      "metadata": {
        "id": "ezpKz4b3MahU"
      },
      "source": [
        "#calculate model_1 evaluation metrics\n",
        "mae_1 = mae(y_test, y_pred_1) #averagely, each pred point is 18 points away from the true value\n",
        "mse_1 = mse(y_test, y_pred_1)\n",
        "mae_1, mse_1"
      ],
      "execution_count": null,
      "outputs": []
    },
    {
      "cell_type": "markdown",
      "metadata": {
        "id": "RuCfV-wDMakk"
      },
      "source": [
        "**Model 2**\n",
        "\n",
        "* 2 dense layers, train for 100 epochs"
      ]
    },
    {
      "cell_type": "code",
      "metadata": {
        "id": "TgdbjpkaManW"
      },
      "source": [
        "#create model\n",
        "tf.random.set_seed(42)\n",
        "\n",
        "model_2 = tf.keras.Sequential([tf.keras.layers.Dense(10), tf.keras.layers.Dense(1)])\n",
        "\n",
        "#compile the model\n",
        "model_2.compile(loss='mae', optimizer='sgd', metrics=['mse'])\n",
        "\n",
        "#fit the model\n",
        "model_2.fit(X_train, y_train, epochs = 100)"
      ],
      "execution_count": null,
      "outputs": []
    },
    {
      "cell_type": "code",
      "metadata": {
        "id": "vCkj0gu3Maqh"
      },
      "source": [
        "#make and plot predictions of model_2\n",
        "y_pred_2 = model_2.predict(X_test)\n",
        "plot(y_pred=y_pred_2)"
      ],
      "execution_count": null,
      "outputs": []
    },
    {
      "cell_type": "code",
      "metadata": {
        "id": "0rWKliLVMatv"
      },
      "source": [
        "#calculate model 2 evaluation metrics\n",
        "mae_2 = mae(y_test, y_pred_2)\n",
        "mse_2 = mse(y_test, y_pred_2)\n",
        "mae_2, mse_2"
      ],
      "execution_count": null,
      "outputs": []
    },
    {
      "cell_type": "markdown",
      "metadata": {
        "id": "kqzOTuRZMawy"
      },
      "source": [
        "***Model 3***\n",
        "\n",
        "* 2 layers, trianed for 500 epochs"
      ]
    },
    {
      "cell_type": "code",
      "metadata": {
        "id": "-eprVzWqMa0A"
      },
      "source": [
        "#create model\n",
        "tf.random.set_seed(42)\n",
        "\n",
        "model_3 = tf.keras.Sequential([tf.keras.layers.Dense(10), tf.keras.layers.Dense(1)])\n",
        "\n",
        "#compile model\n",
        "model_3.compile(loss='mae', optimizer='sgd', metrics=['mse'])\n",
        "\n",
        "#fit model\n",
        "model_3.fit(X_train, y_train, epochs=500, verbose=0)"
      ],
      "execution_count": null,
      "outputs": []
    },
    {
      "cell_type": "code",
      "metadata": {
        "id": "5FP_IadFMa2c"
      },
      "source": [
        "#make and plot predictions\n",
        "y_pred_3 = model_3.predict(X_test)\n",
        "plot(y_pred=y_pred_3)\n",
        "\n",
        "#The model is predicting wrongly, even as we ran longer. It is overfitting the data. "
      ],
      "execution_count": null,
      "outputs": []
    },
    {
      "cell_type": "code",
      "metadata": {
        "id": "hDOVUlufMa6V"
      },
      "source": [
        "# calc evaluation metrics\n",
        "mae_3 = mae(y_test, y_pred_3)\n",
        "mse_3 = mse(y_test, y_pred_3)\n",
        "mae_3, mse_3 #far higher\n",
        "\n",
        "#start with small model and increase the scale when neccessary"
      ],
      "execution_count": null,
      "outputs": []
    },
    {
      "cell_type": "markdown",
      "metadata": {
        "id": "NeihHpO5Ma81"
      },
      "source": [
        "### Comparing the results of our experiments\n",
        "\n",
        "Let's compare the results of our experiments."
      ]
    },
    {
      "cell_type": "code",
      "metadata": {
        "id": "dP3MgAYX2YfG"
      },
      "source": [
        "#Let's compare our models' results using the pandas dataframe\n",
        "import pandas as pd\n",
        "\n",
        "model_results = [['model_1', mae_1.numpy(), mse_1.numpy()],\n",
        "                 ['model_2', mae_2.numpy(), mse_2.numpy()],\n",
        "                 ['model_3', mae_3.numpy(), mse_3.numpy()]]\n",
        "\n",
        "all_results = pd.DataFrame(model_results, columns = ['model', 'mae', 'mse'])\n",
        "all_results"
      ],
      "execution_count": null,
      "outputs": []
    },
    {
      "cell_type": "code",
      "metadata": {
        "id": "BZJAJLyY2YiN"
      },
      "source": [
        "model_2.summary()"
      ],
      "execution_count": null,
      "outputs": []
    },
    {
      "cell_type": "markdown",
      "metadata": {
        "id": "IcIQ4cbd2Yl3"
      },
      "source": [
        "## Tracking our experiments\n",
        "\n",
        "One good habit in ML modeling is to track the results of our experiments. This can be tedious when running lots of experiments but there are tools to help in this regards.\n",
        "\n",
        "* TensorBoard can be used. It is a component of the tensorflow library to track modelling experiments\n",
        "* Weighs and Biases is a tool outside tensorflow for tracking all sorts of ML experiments. It can be plugged straight into tensorflow, however."
      ]
    },
    {
      "cell_type": "markdown",
      "metadata": {
        "id": "H7n3sDJJ2Yoc"
      },
      "source": [
        "## Saving our models\n",
        "\n",
        "Saving our models allow us to use it outside of google colab, perhaps in an mobile app, web application, etc.\n",
        "\n",
        "Models can be saved in 2 formats:\n",
        "1. The SavedModel format\n",
        "2. The HDF5 format"
      ]
    },
    {
      "cell_type": "code",
      "metadata": {
        "id": "-vDBR18P5vHZ"
      },
      "source": [
        "#save the model using SavedModel format\n",
        "#To ensure the model is saved correctly, we can reload it\n",
        "model_2.save('best_model')"
      ],
      "execution_count": null,
      "outputs": []
    },
    {
      "cell_type": "code",
      "metadata": {
        "id": "VC63FF5z5vKw"
      },
      "source": [
        "#save the model using HDF5 format. This is done by adding the '.h5' extension\n",
        "#We may not need to do this if we are not going to use the model outside of the \n",
        "#tensorflow platform\n",
        "model_2.save('best_model.h5')"
      ],
      "execution_count": null,
      "outputs": []
    },
    {
      "cell_type": "markdown",
      "metadata": {
        "id": "HLKJbrMO5vNe"
      },
      "source": [
        "### Loading a saved model\n"
      ]
    },
    {
      "cell_type": "code",
      "metadata": {
        "id": "_t3OFlC15vRF"
      },
      "source": [
        "#load the model using SavedModel format\n",
        "loaded_model = tf.keras.models.load_model('/content/best_model')\n",
        "loaded_model.summary()"
      ],
      "execution_count": null,
      "outputs": []
    },
    {
      "cell_type": "code",
      "metadata": {
        "id": "u4CTqxWD5vUk"
      },
      "source": [
        "#compare model 2 predictions \n",
        "model_2_preds = model_2.predict(X_test)\n",
        "loaded_model_preds = loaded_model.predict(X_test)"
      ],
      "execution_count": null,
      "outputs": []
    },
    {
      "cell_type": "code",
      "metadata": {
        "id": "erYXPraM5vvB"
      },
      "source": [
        "model_2_preds == loaded_model_preds"
      ],
      "execution_count": null,
      "outputs": []
    },
    {
      "cell_type": "code",
      "metadata": {
        "id": "IVDlTYqW5vyH"
      },
      "source": [
        "#load the model using .h5 format\n",
        "loaded_h5_model = tf.keras.models.load_model('/content/best_model.h5')"
      ],
      "execution_count": null,
      "outputs": []
    },
    {
      "cell_type": "code",
      "metadata": {
        "id": "CZ9T6Vof5v2x"
      },
      "source": [
        "loaded_h5_model.summary()"
      ],
      "execution_count": null,
      "outputs": []
    },
    {
      "cell_type": "code",
      "metadata": {
        "id": "tglhP_rB5v8D"
      },
      "source": [
        "#compare model 2 predictions \n",
        "model_2_preds = model_2.predict(X_test)\n",
        "loaded__h5_model_preds = loaded_h5_model.predict(X_test)"
      ],
      "execution_count": null,
      "outputs": []
    },
    {
      "cell_type": "code",
      "metadata": {
        "id": "iQzYA7wI5wBc"
      },
      "source": [
        "model_2_preds == loaded__h5_model_preds"
      ],
      "execution_count": null,
      "outputs": []
    },
    {
      "cell_type": "markdown",
      "metadata": {
        "id": "-0bqOr_T5wkS"
      },
      "source": [
        "## Download a model (or any other file) from Google Colab\n",
        "\n",
        "1. You can go to the 'files' tab and download the file by right-clicking on the file and download \n",
        "2. Use code (see below)\n",
        "3. Save it to google drive, by connecting Google drive and copying it there. (see 2nd code below)\n"
      ]
    },
    {
      "cell_type": "code",
      "metadata": {
        "id": "svhYE4245wnK"
      },
      "source": [
        "# download a frile from Google colab\n",
        "# from google.colab import files\n",
        "# files.download('/content/best_model')"
      ],
      "execution_count": null,
      "outputs": []
    },
    {
      "cell_type": "code",
      "metadata": {
        "id": "e23BUxbm5wrb"
      },
      "source": [
        "# save a file from Google colab to Google drive. (requires mounting Google drive)\n",
        "!cp /content/best_model.h5 /content/drive/MyDrive/TensorFlow"
      ],
      "execution_count": null,
      "outputs": []
    },
    {
      "cell_type": "code",
      "metadata": {
        "id": "yTyai7955wtj"
      },
      "source": [
        "ls /content/drive/MyDrive/TensorFlow"
      ],
      "execution_count": null,
      "outputs": []
    },
    {
      "cell_type": "markdown",
      "metadata": {
        "id": "5PqD0se75wyM"
      },
      "source": [
        "### A larger Example"
      ]
    },
    {
      "cell_type": "code",
      "metadata": {
        "id": "HSZoerPV5w0I"
      },
      "source": [
        ""
      ],
      "execution_count": null,
      "outputs": []
    },
    {
      "cell_type": "code",
      "metadata": {
        "id": "2Kwtl3gE5w48"
      },
      "source": [
        ""
      ],
      "execution_count": null,
      "outputs": []
    },
    {
      "cell_type": "code",
      "metadata": {
        "id": "mUPh7oFB5w97"
      },
      "source": [
        ""
      ],
      "execution_count": null,
      "outputs": []
    },
    {
      "cell_type": "code",
      "metadata": {
        "id": "D-ZhC2H85w_2"
      },
      "source": [
        ""
      ],
      "execution_count": null,
      "outputs": []
    },
    {
      "cell_type": "code",
      "metadata": {
        "id": "ReIziveh5xBc"
      },
      "source": [
        ""
      ],
      "execution_count": null,
      "outputs": []
    },
    {
      "cell_type": "code",
      "metadata": {
        "id": "98Kq2biV5xFq"
      },
      "source": [
        ""
      ],
      "execution_count": null,
      "outputs": []
    },
    {
      "cell_type": "code",
      "metadata": {
        "id": "6CgHzc6_5xHV"
      },
      "source": [
        ""
      ],
      "execution_count": null,
      "outputs": []
    },
    {
      "cell_type": "code",
      "metadata": {
        "id": "qX3IZJ7w5xJ_"
      },
      "source": [
        ""
      ],
      "execution_count": null,
      "outputs": []
    },
    {
      "cell_type": "code",
      "metadata": {
        "id": "877z4OPA5xO7"
      },
      "source": [
        ""
      ],
      "execution_count": null,
      "outputs": []
    },
    {
      "cell_type": "code",
      "metadata": {
        "id": "16YSrSXG5xSu"
      },
      "source": [
        ""
      ],
      "execution_count": null,
      "outputs": []
    },
    {
      "cell_type": "code",
      "metadata": {
        "id": "8WVnSrB-5xV_"
      },
      "source": [
        ""
      ],
      "execution_count": null,
      "outputs": []
    },
    {
      "cell_type": "code",
      "metadata": {
        "id": "jkmckv6O5xY_"
      },
      "source": [
        ""
      ],
      "execution_count": null,
      "outputs": []
    },
    {
      "cell_type": "code",
      "metadata": {
        "id": "cjpGRC0i5xcA"
      },
      "source": [
        ""
      ],
      "execution_count": null,
      "outputs": []
    },
    {
      "cell_type": "code",
      "metadata": {
        "id": "S3bZX7hD2Yrp"
      },
      "source": [
        ""
      ],
      "execution_count": null,
      "outputs": []
    },
    {
      "cell_type": "code",
      "metadata": {
        "id": "Ge9gDNdO2YvC"
      },
      "source": [
        ""
      ],
      "execution_count": null,
      "outputs": []
    },
    {
      "cell_type": "code",
      "metadata": {
        "id": "HtioFmdS2Yyf"
      },
      "source": [
        ""
      ],
      "execution_count": null,
      "outputs": []
    },
    {
      "cell_type": "code",
      "metadata": {
        "id": "pKvRnZKP2Y1C"
      },
      "source": [
        ""
      ],
      "execution_count": null,
      "outputs": []
    },
    {
      "cell_type": "code",
      "metadata": {
        "id": "20I-9yPc2Y4I"
      },
      "source": [
        ""
      ],
      "execution_count": null,
      "outputs": []
    },
    {
      "cell_type": "code",
      "metadata": {
        "id": "2i0mvG9L2Y8Q"
      },
      "source": [
        ""
      ],
      "execution_count": null,
      "outputs": []
    },
    {
      "cell_type": "code",
      "metadata": {
        "id": "y_5L270R2Y-j"
      },
      "source": [
        ""
      ],
      "execution_count": null,
      "outputs": []
    },
    {
      "cell_type": "code",
      "metadata": {
        "id": "zcYzr9NY2ZBd"
      },
      "source": [
        ""
      ],
      "execution_count": null,
      "outputs": []
    },
    {
      "cell_type": "code",
      "metadata": {
        "id": "JKC-18Lt2ZFz"
      },
      "source": [
        ""
      ],
      "execution_count": null,
      "outputs": []
    }
  ]
}