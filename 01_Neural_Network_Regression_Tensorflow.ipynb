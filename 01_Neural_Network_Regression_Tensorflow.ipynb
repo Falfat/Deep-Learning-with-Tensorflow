{
  "nbformat": 4,
  "nbformat_minor": 0,
  "metadata": {
    "colab": {
      "name": "01_Neural_Network_Regression_Tensorflow.ipynb",
      "provenance": [],
      "collapsed_sections": []
    },
    "kernelspec": {
      "name": "python3",
      "display_name": "Python 3"
    },
    "language_info": {
      "name": "python"
    }
  },
  "cells": [
    {
      "cell_type": "markdown",
      "metadata": {
        "id": "G10P-3Kcjt68"
      },
      "source": [
        "# Introduction to Regression with Neural Network in Tensorflow\n",
        "\n",
        "Regression is predicting a numerical variable based on some combination of variables. Or simply, predicting a number"
      ]
    },
    {
      "cell_type": "code",
      "metadata": {
        "colab": {
          "base_uri": "https://localhost:8080/"
        },
        "id": "e_Ozxyyj-86S",
        "outputId": "f4e88358-3b00-4ff0-d00c-26c69fdaba40"
      },
      "source": [
        "#import required libraries\n",
        "import tensorflow as tf\n",
        "import numpy as np\n",
        "import matplotlib.pyplot as plt\n",
        "print(tf.__version__)"
      ],
      "execution_count": 3,
      "outputs": [
        {
          "output_type": "stream",
          "name": "stdout",
          "text": [
            "2.6.0\n"
          ]
        }
      ]
    },
    {
      "cell_type": "code",
      "metadata": {
        "colab": {
          "base_uri": "https://localhost:8080/",
          "height": 286
        },
        "id": "I9LG94dW-89Y",
        "outputId": "1f11eb3e-cfc4-4735-d311-c8c30865408e"
      },
      "source": [
        "# create features\n",
        "X = np.array([-7, -4, -1, 2, 5, 8, 11, 14])\n",
        "\n",
        "#create labels \n",
        "y = np.array([3, 6, 9, 12, 15, 18, 21, 24])\n",
        "\n",
        "#visualize \n",
        "plt.scatter(X, y)"
      ],
      "execution_count": 5,
      "outputs": [
        {
          "output_type": "execute_result",
          "data": {
            "text/plain": [
              "<matplotlib.collections.PathCollection at 0x7fa8d378f910>"
            ]
          },
          "metadata": {},
          "execution_count": 5
        },
        {
          "output_type": "display_data",
          "data": {
            "image/png": "[encoded data removed]",
            "text/plain": [
              "<Figure size 432x288 with 1 Axes>"
            ]
          },
          "metadata": {
            "needs_background": "light"
          }
        }
      ]
    },
    {
      "cell_type": "code",
      "metadata": {
        "colab": {
          "base_uri": "https://localhost:8080/"
        },
        "id": "75XAVBVr-9AZ",
        "outputId": "e86e0921-c327-4060-af05-e4fb1d6d4bfd"
      },
      "source": [
        "#relationship between X and y, that we want out NN to learn\n",
        "y == X + 10"
      ],
      "execution_count": 6,
      "outputs": [
        {
          "output_type": "execute_result",
          "data": {
            "text/plain": [
              "array([ True,  True,  True,  True,  True,  True,  True,  True])"
            ]
          },
          "metadata": {},
          "execution_count": 6
        }
      ]
    },
    {
      "cell_type": "markdown",
      "metadata": {
        "id": "i_PrFWHo-9DQ"
      },
      "source": [
        "### Input and Output shapes"
      ]
    },
    {
      "cell_type": "code",
      "metadata": {
        "colab": {
          "base_uri": "https://localhost:8080/"
        },
        "id": "rhhHCo_a-9GQ",
        "outputId": "292041ca-cb82-4a2f-a800-5ed4f32474b3"
      },
      "source": [
        "# create a demo tensor for housing price prediction problem\n",
        "house_info = tf.constant(['bedroom', 'bathroom', 'garage'])\n",
        "house_price = tf.constant([939700])\n",
        "house_info, house_price"
      ],
      "execution_count": 7,
      "outputs": [
        {
          "output_type": "execute_result",
          "data": {
            "text/plain": [
              "(<tf.Tensor: shape=(3,), dtype=string, numpy=array([b'bedroom', b'bathroom', b'garage'], dtype=object)>,\n",
              " <tf.Tensor: shape=(1,), dtype=int32, numpy=array([939700], dtype=int32)>)"
            ]
          },
          "metadata": {},
          "execution_count": 7
        }
      ]
    },
    {
      "cell_type": "code",
      "metadata": {
        "colab": {
          "base_uri": "https://localhost:8080/"
        },
        "id": "UegcMTaM-9JQ",
        "outputId": "c4ee9936-6014-4ce4-f4b3-05cad6c19941"
      },
      "source": [
        "input_shape = X[0].shape\n",
        "output_shape = y[0].shape\n",
        "input_shape, output_shape #it is empty because our tensor is a scalar"
      ],
      "execution_count": 10,
      "outputs": [
        {
          "output_type": "execute_result",
          "data": {
            "text/plain": [
              "((), ())"
            ]
          },
          "metadata": {},
          "execution_count": 10
        }
      ]
    },
    {
      "cell_type": "code",
      "metadata": {
        "colab": {
          "base_uri": "https://localhost:8080/"
        },
        "id": "DZGI4U6u-9MY",
        "outputId": "fbc5d6a6-1194-4c12-a38f-6a9866f9ce93"
      },
      "source": [
        "#Turn the np arrays into tensor\n",
        "X = tf.constant(X)\n",
        "y = tf.constant(y)\n",
        "X, y"
      ],
      "execution_count": 11,
      "outputs": [
        {
          "output_type": "execute_result",
          "data": {
            "text/plain": [
              "(<tf.Tensor: shape=(8,), dtype=int64, numpy=array([-7, -4, -1,  2,  5,  8, 11, 14])>,\n",
              " <tf.Tensor: shape=(8,), dtype=int64, numpy=array([ 3,  6,  9, 12, 15, 18, 21, 24])>)"
            ]
          },
          "metadata": {},
          "execution_count": 11
        }
      ]
    },
    {
      "cell_type": "code",
      "metadata": {
        "colab": {
          "base_uri": "https://localhost:8080/"
        },
        "id": "849RaTtB-9Ph",
        "outputId": "7cd9139a-05ff-40ba-bdbc-ed19840a2b04"
      },
      "source": [
        "input_shape = X[0].shape\n",
        "output_shape = y[0].shape\n",
        "input_shape, output_shape #it is empty because our tensor is a scalar"
      ],
      "execution_count": 12,
      "outputs": [
        {
          "output_type": "execute_result",
          "data": {
            "text/plain": [
              "(TensorShape([]), TensorShape([]))"
            ]
          },
          "metadata": {},
          "execution_count": 12
        }
      ]
    },
    {
      "cell_type": "code",
      "metadata": {
        "colab": {
          "base_uri": "https://localhost:8080/",
          "height": 286
        },
        "id": "unqtNkgz-9So",
        "outputId": "a149a5fd-b5ad-48d8-c652-d6ac74739b84"
      },
      "source": [
        "plt.scatter(X, y)"
      ],
      "execution_count": 13,
      "outputs": [
        {
          "output_type": "execute_result",
          "data": {
            "text/plain": [
              "<matplotlib.collections.PathCollection at 0x7fa8ce71a9d0>"
            ]
          },
          "metadata": {},
          "execution_count": 13
        },
        {
          "output_type": "display_data",
          "data": {
            "image/png": "[encoded data removed]",
            "text/plain": [
              "<Figure size 432x288 with 1 Axes>"
            ]
          },
          "metadata": {
            "needs_background": "light"
          }
        }
      ]
    },
    {
      "cell_type": "markdown",
      "metadata": {
        "id": "vpLb-FcS-9WY"
      },
      "source": [
        "### Steps in modelling with tensorflow\n",
        "\n",
        "1. **Creating a model**: define the input and output layers, as well as hidden layers of the DL model\n",
        "2. **Compile the model**: define the loss function (the function that teslls our model how wrong it is) and the optimizer (tells the model how to improve the pattern it is learning), and evaluation metrics (used to interpret the performamce of our model.)\n",
        "3. **Fitting the mode**l: Letting the model find pattern between the features and labels."
      ]
    },
    {
      "cell_type": "code",
      "metadata": {
        "colab": {
          "base_uri": "https://localhost:8080/"
        },
        "id": "PnmeLOrjCmTx",
        "outputId": "5256c08e-6037-4e3a-e541-4ef37c92597e"
      },
      "source": [
        "#SET SEED\n",
        "tf.random.set_seed(42)\n",
        "\n",
        "#create a model using the sequential API\n",
        "model = tf.keras.Sequential([tf.keras.layers.Dense(1)]) #one hidden layer with a single neuron\n",
        "\n",
        "#\n",
        "#compile model\n",
        "model.compile(loss=tf.keras.losses.mae, optimizer=tf.keras.optimizers.SGD(), metrics =['mae'])\n",
        "\n",
        "#fit the model\n",
        "model.fit(X, y, epochs=5)"
      ],
      "execution_count": 15,
      "outputs": [
        {
          "output_type": "stream",
          "name": "stdout",
          "text": [
            "Epoch 1/5\n",
            "1/1 [==============================] - 1s 1s/step - loss: 11.5048 - mae: 11.5048\n",
            "Epoch 2/5\n",
            "1/1 [==============================] - 0s 18ms/step - loss: 11.3723 - mae: 11.3723\n",
            "Epoch 3/5\n",
            "1/1 [==============================] - 0s 8ms/step - loss: 11.2398 - mae: 11.2398\n",
            "Epoch 4/5\n",
            "1/1 [==============================] - 0s 28ms/step - loss: 11.1073 - mae: 11.1073\n",
            "Epoch 5/5\n",
            "1/1 [==============================] - 0s 5ms/step - loss: 10.9748 - mae: 10.9748\n"
          ]
        },
        {
          "output_type": "execute_result",
          "data": {
            "text/plain": [
              "<keras.callbacks.History at 0x7fa8cd9e85d0>"
            ]
          },
          "metadata": {},
          "execution_count": 15
        }
      ]
    },
    {
      "cell_type": "code",
      "metadata": {
        "colab": {
          "base_uri": "https://localhost:8080/"
        },
        "id": "mz8zAECDCmW3",
        "outputId": "53047086-80c8-40cf-eaf7-d17b901b15dc"
      },
      "source": [
        "#check out X and y\n",
        "X, y"
      ],
      "execution_count": 16,
      "outputs": [
        {
          "output_type": "execute_result",
          "data": {
            "text/plain": [
              "(<tf.Tensor: shape=(8,), dtype=int64, numpy=array([-7, -4, -1,  2,  5,  8, 11, 14])>,\n",
              " <tf.Tensor: shape=(8,), dtype=int64, numpy=array([ 3,  6,  9, 12, 15, 18, 21, 24])>)"
            ]
          },
          "metadata": {},
          "execution_count": 16
        }
      ]
    },
    {
      "cell_type": "code",
      "metadata": {
        "id": "oVf6U1f0CmaP"
      },
      "source": [
        "#try to make predicition\n",
        "y_pred = model.predict([17.0])"
      ],
      "execution_count": 18,
      "outputs": []
    },
    {
      "cell_type": "code",
      "metadata": {
        "colab": {
          "base_uri": "https://localhost:8080/"
        },
        "id": "Rt_hid9FCmdH",
        "outputId": "a34e07b7-5297-4225-fcba-09c99173e9b3"
      },
      "source": [
        "y_pred + 11\n",
        "#The model is wrong (even after adding the mae), thus we need to improve it"
      ],
      "execution_count": 19,
      "outputs": [
        {
          "output_type": "execute_result",
          "data": {
            "text/plain": [
              "array([[23.71602]], dtype=float32)"
            ]
          },
          "metadata": {},
          "execution_count": 19
        }
      ]
    },
    {
      "cell_type": "markdown",
      "metadata": {
        "id": "Lm7YsOuqCmf6"
      },
      "source": [
        "### Improve the model\n",
        "\n",
        "The model can be improved by altering any of the 3 steps involved.\n",
        "\n",
        "1. **In creating of mode**: we can add more layers, increase the number of neutrons in the hidden layer/s, change activation function of each layer.\n",
        "2. **Compiling a model**: change the optimization function or perhaps the learning rate o the optimisation function\n",
        "3. **Fitting a model**:  add more epochs (leave it training for longer) or on more data (give the model more examples to learn from).\n",
        "\n",
        "* The smaller model above was created to check if things work, before creating a larger model."
      ]
    },
    {
      "cell_type": "code",
      "metadata": {
        "colab": {
          "base_uri": "https://localhost:8080/"
        },
        "id": "euHfBtqwCmjH",
        "outputId": "e64f7f73-d8a6-4f1d-8bab-39358ebcfdd1"
      },
      "source": [
        "#Rebuild the model: increase the number of epochs only\n",
        "\n",
        "# create the model\n",
        "model = tf.keras.Sequential([tf.keras.layers.Dense(1)])\n",
        "\n",
        "# compile the model\n",
        "model.compile(loss='mae', optimizer='SGD', metrics =['mae'])\n",
        "\n",
        "#fit the model\n",
        "model.fit(X, y, epochs=100)"
      ],
      "execution_count": 20,
      "outputs": [
        {
          "output_type": "stream",
          "name": "stdout",
          "text": [
            "Epoch 1/100\n",
            "1/1 [==============================] - 1s 505ms/step - loss: 11.2219 - mae: 11.2219\n",
            "Epoch 2/100\n",
            "1/1 [==============================] - 0s 7ms/step - loss: 11.0894 - mae: 11.0894\n",
            "Epoch 3/100\n",
            "1/1 [==============================] - 0s 7ms/step - loss: 10.9569 - mae: 10.9569\n",
            "Epoch 4/100\n",
            "1/1 [==============================] - 0s 8ms/step - loss: 10.8244 - mae: 10.8244\n",
            "Epoch 5/100\n",
            "1/1 [==============================] - 0s 7ms/step - loss: 10.6919 - mae: 10.6919\n",
            "Epoch 6/100\n",
            "1/1 [==============================] - 0s 7ms/step - loss: 10.5594 - mae: 10.5594\n",
            "Epoch 7/100\n",
            "1/1 [==============================] - 0s 8ms/step - loss: 10.4269 - mae: 10.4269\n",
            "Epoch 8/100\n",
            "1/1 [==============================] - 0s 9ms/step - loss: 10.2944 - mae: 10.2944\n",
            "Epoch 9/100\n",
            "1/1 [==============================] - 0s 8ms/step - loss: 10.1619 - mae: 10.1619\n",
            "Epoch 10/100\n",
            "1/1 [==============================] - 0s 12ms/step - loss: 10.0294 - mae: 10.0294\n",
            "Epoch 11/100\n",
            "1/1 [==============================] - 0s 6ms/step - loss: 9.8969 - mae: 9.8969\n",
            "Epoch 12/100\n",
            "1/1 [==============================] - 0s 20ms/step - loss: 9.7644 - mae: 9.7644\n",
            "Epoch 13/100\n",
            "1/1 [==============================] - 0s 7ms/step - loss: 9.6319 - mae: 9.6319\n",
            "Epoch 14/100\n",
            "1/1 [==============================] - 0s 20ms/step - loss: 9.4994 - mae: 9.4994\n",
            "Epoch 15/100\n",
            "1/1 [==============================] - 0s 10ms/step - loss: 9.3669 - mae: 9.3669\n",
            "Epoch 16/100\n",
            "1/1 [==============================] - 0s 13ms/step - loss: 9.2344 - mae: 9.2344\n",
            "Epoch 17/100\n",
            "1/1 [==============================] - 0s 24ms/step - loss: 9.1019 - mae: 9.1019\n",
            "Epoch 18/100\n",
            "1/1 [==============================] - 0s 9ms/step - loss: 8.9694 - mae: 8.9694\n",
            "Epoch 19/100\n",
            "1/1 [==============================] - 0s 14ms/step - loss: 8.8369 - mae: 8.8369\n",
            "Epoch 20/100\n",
            "1/1 [==============================] - 0s 10ms/step - loss: 8.7044 - mae: 8.7044\n",
            "Epoch 21/100\n",
            "1/1 [==============================] - 0s 8ms/step - loss: 8.5719 - mae: 8.5719\n",
            "Epoch 22/100\n",
            "1/1 [==============================] - 0s 7ms/step - loss: 8.4394 - mae: 8.4394\n",
            "Epoch 23/100\n",
            "1/1 [==============================] - 0s 10ms/step - loss: 8.3069 - mae: 8.3069\n",
            "Epoch 24/100\n",
            "1/1 [==============================] - 0s 31ms/step - loss: 8.1744 - mae: 8.1744\n",
            "Epoch 25/100\n",
            "1/1 [==============================] - 0s 5ms/step - loss: 8.0419 - mae: 8.0419\n",
            "Epoch 26/100\n",
            "1/1 [==============================] - 0s 12ms/step - loss: 7.9094 - mae: 7.9094\n",
            "Epoch 27/100\n",
            "1/1 [==============================] - 0s 10ms/step - loss: 7.7769 - mae: 7.7769\n",
            "Epoch 28/100\n",
            "1/1 [==============================] - 0s 13ms/step - loss: 7.6444 - mae: 7.6444\n",
            "Epoch 29/100\n",
            "1/1 [==============================] - 0s 15ms/step - loss: 7.5119 - mae: 7.5119\n",
            "Epoch 30/100\n",
            "1/1 [==============================] - 0s 5ms/step - loss: 7.3794 - mae: 7.3794\n",
            "Epoch 31/100\n",
            "1/1 [==============================] - 0s 7ms/step - loss: 7.2750 - mae: 7.2750\n",
            "Epoch 32/100\n",
            "1/1 [==============================] - 0s 7ms/step - loss: 7.2694 - mae: 7.2694\n",
            "Epoch 33/100\n",
            "1/1 [==============================] - 0s 10ms/step - loss: 7.2638 - mae: 7.2638\n",
            "Epoch 34/100\n",
            "1/1 [==============================] - 0s 5ms/step - loss: 7.2581 - mae: 7.2581\n",
            "Epoch 35/100\n",
            "1/1 [==============================] - 0s 6ms/step - loss: 7.2525 - mae: 7.2525\n",
            "Epoch 36/100\n",
            "1/1 [==============================] - 0s 9ms/step - loss: 7.2469 - mae: 7.2469\n",
            "Epoch 37/100\n",
            "1/1 [==============================] - 0s 5ms/step - loss: 7.2412 - mae: 7.2412\n",
            "Epoch 38/100\n",
            "1/1 [==============================] - 0s 6ms/step - loss: 7.2356 - mae: 7.2356\n",
            "Epoch 39/100\n",
            "1/1 [==============================] - 0s 7ms/step - loss: 7.2300 - mae: 7.2300\n",
            "Epoch 40/100\n",
            "1/1 [==============================] - 0s 7ms/step - loss: 7.2244 - mae: 7.2244\n",
            "Epoch 41/100\n",
            "1/1 [==============================] - 0s 8ms/step - loss: 7.2188 - mae: 7.2188\n",
            "Epoch 42/100\n",
            "1/1 [==============================] - 0s 7ms/step - loss: 7.2131 - mae: 7.2131\n",
            "Epoch 43/100\n",
            "1/1 [==============================] - 0s 5ms/step - loss: 7.2075 - mae: 7.2075\n",
            "Epoch 44/100\n",
            "1/1 [==============================] - 0s 9ms/step - loss: 7.2019 - mae: 7.2019\n",
            "Epoch 45/100\n",
            "1/1 [==============================] - 0s 10ms/step - loss: 7.1962 - mae: 7.1962\n",
            "Epoch 46/100\n",
            "1/1 [==============================] - 0s 9ms/step - loss: 7.1906 - mae: 7.1906\n",
            "Epoch 47/100\n",
            "1/1 [==============================] - 0s 6ms/step - loss: 7.1850 - mae: 7.1850\n",
            "Epoch 48/100\n",
            "1/1 [==============================] - 0s 4ms/step - loss: 7.1794 - mae: 7.1794\n",
            "Epoch 49/100\n",
            "1/1 [==============================] - 0s 6ms/step - loss: 7.1737 - mae: 7.1737\n",
            "Epoch 50/100\n",
            "1/1 [==============================] - 0s 8ms/step - loss: 7.1681 - mae: 7.1681\n",
            "Epoch 51/100\n",
            "1/1 [==============================] - 0s 8ms/step - loss: 7.1625 - mae: 7.1625\n",
            "Epoch 52/100\n",
            "1/1 [==============================] - 0s 6ms/step - loss: 7.1569 - mae: 7.1569\n",
            "Epoch 53/100\n",
            "1/1 [==============================] - 0s 6ms/step - loss: 7.1512 - mae: 7.1512\n",
            "Epoch 54/100\n",
            "1/1 [==============================] - 0s 8ms/step - loss: 7.1456 - mae: 7.1456\n",
            "Epoch 55/100\n",
            "1/1 [==============================] - 0s 6ms/step - loss: 7.1400 - mae: 7.1400\n",
            "Epoch 56/100\n",
            "1/1 [==============================] - 0s 8ms/step - loss: 7.1344 - mae: 7.1344\n",
            "Epoch 57/100\n",
            "1/1 [==============================] - 0s 6ms/step - loss: 7.1287 - mae: 7.1287\n",
            "Epoch 58/100\n",
            "1/1 [==============================] - 0s 6ms/step - loss: 7.1231 - mae: 7.1231\n",
            "Epoch 59/100\n",
            "1/1 [==============================] - 0s 4ms/step - loss: 7.1175 - mae: 7.1175\n",
            "Epoch 60/100\n",
            "1/1 [==============================] - 0s 7ms/step - loss: 7.1119 - mae: 7.1119\n",
            "Epoch 61/100\n",
            "1/1 [==============================] - 0s 7ms/step - loss: 7.1062 - mae: 7.1062\n",
            "Epoch 62/100\n",
            "1/1 [==============================] - 0s 6ms/step - loss: 7.1006 - mae: 7.1006\n",
            "Epoch 63/100\n",
            "1/1 [==============================] - 0s 4ms/step - loss: 7.0950 - mae: 7.0950\n",
            "Epoch 64/100\n",
            "1/1 [==============================] - 0s 6ms/step - loss: 7.0894 - mae: 7.0894\n",
            "Epoch 65/100\n",
            "1/1 [==============================] - 0s 8ms/step - loss: 7.0838 - mae: 7.0838\n",
            "Epoch 66/100\n",
            "1/1 [==============================] - 0s 5ms/step - loss: 7.0781 - mae: 7.0781\n",
            "Epoch 67/100\n",
            "1/1 [==============================] - 0s 7ms/step - loss: 7.0725 - mae: 7.0725\n",
            "Epoch 68/100\n",
            "1/1 [==============================] - 0s 9ms/step - loss: 7.0669 - mae: 7.0669\n",
            "Epoch 69/100\n",
            "1/1 [==============================] - 0s 8ms/step - loss: 7.0613 - mae: 7.0613\n",
            "Epoch 70/100\n",
            "1/1 [==============================] - 0s 9ms/step - loss: 7.0556 - mae: 7.0556\n",
            "Epoch 71/100\n",
            "1/1 [==============================] - 0s 9ms/step - loss: 7.0500 - mae: 7.0500\n",
            "Epoch 72/100\n",
            "1/1 [==============================] - 0s 7ms/step - loss: 7.0444 - mae: 7.0444\n",
            "Epoch 73/100\n",
            "1/1 [==============================] - 0s 7ms/step - loss: 7.0388 - mae: 7.0388\n",
            "Epoch 74/100\n",
            "1/1 [==============================] - 0s 10ms/step - loss: 7.0331 - mae: 7.0331\n",
            "Epoch 75/100\n",
            "1/1 [==============================] - 0s 5ms/step - loss: 7.0275 - mae: 7.0275\n",
            "Epoch 76/100\n",
            "1/1 [==============================] - 0s 8ms/step - loss: 7.0219 - mae: 7.0219\n",
            "Epoch 77/100\n",
            "1/1 [==============================] - 0s 6ms/step - loss: 7.0163 - mae: 7.0163\n",
            "Epoch 78/100\n",
            "1/1 [==============================] - 0s 7ms/step - loss: 7.0106 - mae: 7.0106\n",
            "Epoch 79/100\n",
            "1/1 [==============================] - 0s 5ms/step - loss: 7.0050 - mae: 7.0050\n",
            "Epoch 80/100\n",
            "1/1 [==============================] - 0s 7ms/step - loss: 6.9994 - mae: 6.9994\n",
            "Epoch 81/100\n",
            "1/1 [==============================] - 0s 6ms/step - loss: 6.9938 - mae: 6.9938\n",
            "Epoch 82/100\n",
            "1/1 [==============================] - 0s 6ms/step - loss: 6.9881 - mae: 6.9881\n",
            "Epoch 83/100\n",
            "1/1 [==============================] - 0s 5ms/step - loss: 6.9825 - mae: 6.9825\n",
            "Epoch 84/100\n",
            "1/1 [==============================] - 0s 6ms/step - loss: 6.9769 - mae: 6.9769\n",
            "Epoch 85/100\n",
            "1/1 [==============================] - 0s 5ms/step - loss: 6.9713 - mae: 6.9713\n",
            "Epoch 86/100\n",
            "1/1 [==============================] - 0s 4ms/step - loss: 6.9656 - mae: 6.9656\n",
            "Epoch 87/100\n",
            "1/1 [==============================] - 0s 5ms/step - loss: 6.9600 - mae: 6.9600\n",
            "Epoch 88/100\n",
            "1/1 [==============================] - 0s 7ms/step - loss: 6.9544 - mae: 6.9544\n",
            "Epoch 89/100\n",
            "1/1 [==============================] - 0s 6ms/step - loss: 6.9488 - mae: 6.9488\n",
            "Epoch 90/100\n",
            "1/1 [==============================] - 0s 7ms/step - loss: 6.9431 - mae: 6.9431\n",
            "Epoch 91/100\n",
            "1/1 [==============================] - 0s 7ms/step - loss: 6.9375 - mae: 6.9375\n",
            "Epoch 92/100\n",
            "1/1 [==============================] - 0s 7ms/step - loss: 6.9319 - mae: 6.9319\n",
            "Epoch 93/100\n",
            "1/1 [==============================] - 0s 8ms/step - loss: 6.9263 - mae: 6.9263\n",
            "Epoch 94/100\n",
            "1/1 [==============================] - 0s 8ms/step - loss: 6.9206 - mae: 6.9206\n",
            "Epoch 95/100\n",
            "1/1 [==============================] - 0s 6ms/step - loss: 6.9150 - mae: 6.9150\n",
            "Epoch 96/100\n",
            "1/1 [==============================] - 0s 5ms/step - loss: 6.9094 - mae: 6.9094\n",
            "Epoch 97/100\n",
            "1/1 [==============================] - 0s 6ms/step - loss: 6.9038 - mae: 6.9038\n",
            "Epoch 98/100\n",
            "1/1 [==============================] - 0s 24ms/step - loss: 6.8981 - mae: 6.8981\n",
            "Epoch 99/100\n",
            "1/1 [==============================] - 0s 10ms/step - loss: 6.8925 - mae: 6.8925\n",
            "Epoch 100/100\n",
            "1/1 [==============================] - 0s 14ms/step - loss: 6.8869 - mae: 6.8869\n"
          ]
        },
        {
          "output_type": "execute_result",
          "data": {
            "text/plain": [
              "<keras.callbacks.History at 0x7fa8cda09950>"
            ]
          },
          "metadata": {},
          "execution_count": 20
        }
      ]
    },
    {
      "cell_type": "code",
      "metadata": {
        "colab": {
          "base_uri": "https://localhost:8080/"
        },
        "id": "DWMpRSITCmmg",
        "outputId": "1f1cf2a4-31e7-4c4f-a0d0-56495c038d2e"
      },
      "source": [
        "#check the prediction from the model\n",
        "model.predict([17]) \n",
        "#a better prediction than the previous"
      ],
      "execution_count": 23,
      "outputs": [
        {
          "output_type": "execute_result",
          "data": {
            "text/plain": [
              "array([[29.739855]], dtype=float32)"
            ]
          },
          "metadata": {},
          "execution_count": 23
        }
      ]
    },
    {
      "cell_type": "code",
      "metadata": {
        "colab": {
          "base_uri": "https://localhost:8080/"
        },
        "id": "wwS0RaQOCmpw",
        "outputId": "b8349087-9648-44dd-88de-7e9a7e5394ea"
      },
      "source": [
        "#Rebuild the model: increase the number of hidden layers\n",
        "\n",
        "# create the model\n",
        "model = tf.keras.Sequential([tf.keras.layers.Dense(100, activation='relu'),  \n",
        "                             tf.keras.layers.Dense(1)])\n",
        "\n",
        "# compile the model\n",
        "model.compile(loss='mae', optimizer='SGD', metrics =['mae'])\n",
        "\n",
        "#fit the model\n",
        "model.fit(X, y, epochs=100)"
      ],
      "execution_count": 26,
      "outputs": [
        {
          "output_type": "stream",
          "name": "stdout",
          "text": [
            "Epoch 1/100\n",
            "1/1 [==============================] - 0s 313ms/step - loss: 12.5326 - mae: 12.5326\n",
            "Epoch 2/100\n",
            "1/1 [==============================] - 0s 7ms/step - loss: 11.8956 - mae: 11.8956\n",
            "Epoch 3/100\n",
            "1/1 [==============================] - 0s 9ms/step - loss: 11.2464 - mae: 11.2464\n",
            "Epoch 4/100\n",
            "1/1 [==============================] - 0s 8ms/step - loss: 10.5791 - mae: 10.5791\n",
            "Epoch 5/100\n",
            "1/1 [==============================] - 0s 7ms/step - loss: 9.8874 - mae: 9.8874\n",
            "Epoch 6/100\n",
            "1/1 [==============================] - 0s 5ms/step - loss: 9.1649 - mae: 9.1649\n",
            "Epoch 7/100\n",
            "1/1 [==============================] - 0s 3ms/step - loss: 8.4050 - mae: 8.4050\n",
            "Epoch 8/100\n",
            "1/1 [==============================] - 0s 8ms/step - loss: 7.6117 - mae: 7.6117\n",
            "Epoch 9/100\n",
            "1/1 [==============================] - 0s 4ms/step - loss: 6.7798 - mae: 6.7798\n",
            "Epoch 10/100\n",
            "1/1 [==============================] - 0s 9ms/step - loss: 5.8888 - mae: 5.8888\n",
            "Epoch 11/100\n",
            "1/1 [==============================] - 0s 4ms/step - loss: 4.9302 - mae: 4.9302\n",
            "Epoch 12/100\n",
            "1/1 [==============================] - 0s 6ms/step - loss: 4.1685 - mae: 4.1685\n",
            "Epoch 13/100\n",
            "1/1 [==============================] - 0s 5ms/step - loss: 4.0209 - mae: 4.0209\n",
            "Epoch 14/100\n",
            "1/1 [==============================] - 0s 6ms/step - loss: 3.9298 - mae: 3.9298\n",
            "Epoch 15/100\n",
            "1/1 [==============================] - 0s 5ms/step - loss: 3.9596 - mae: 3.9596\n",
            "Epoch 16/100\n",
            "1/1 [==============================] - 0s 4ms/step - loss: 3.9400 - mae: 3.9400\n",
            "Epoch 17/100\n",
            "1/1 [==============================] - 0s 6ms/step - loss: 3.9405 - mae: 3.9405\n",
            "Epoch 18/100\n",
            "1/1 [==============================] - 0s 8ms/step - loss: 3.9523 - mae: 3.9523\n",
            "Epoch 19/100\n",
            "1/1 [==============================] - 0s 10ms/step - loss: 3.9142 - mae: 3.9142\n",
            "Epoch 20/100\n",
            "1/1 [==============================] - 0s 4ms/step - loss: 3.9599 - mae: 3.9599\n",
            "Epoch 21/100\n",
            "1/1 [==============================] - 0s 9ms/step - loss: 3.8896 - mae: 3.8896\n",
            "Epoch 22/100\n",
            "1/1 [==============================] - 0s 14ms/step - loss: 3.9648 - mae: 3.9648\n",
            "Epoch 23/100\n",
            "1/1 [==============================] - 0s 6ms/step - loss: 3.8971 - mae: 3.8971\n",
            "Epoch 24/100\n",
            "1/1 [==============================] - 0s 6ms/step - loss: 3.9391 - mae: 3.9391\n",
            "Epoch 25/100\n",
            "1/1 [==============================] - 0s 7ms/step - loss: 3.9123 - mae: 3.9123\n",
            "Epoch 26/100\n",
            "1/1 [==============================] - 0s 8ms/step - loss: 3.9192 - mae: 3.9192\n",
            "Epoch 27/100\n",
            "1/1 [==============================] - 0s 5ms/step - loss: 3.9199 - mae: 3.9199\n",
            "Epoch 28/100\n",
            "1/1 [==============================] - 0s 6ms/step - loss: 3.8926 - mae: 3.8926\n",
            "Epoch 29/100\n",
            "1/1 [==============================] - 0s 7ms/step - loss: 3.9277 - mae: 3.9277\n",
            "Epoch 30/100\n",
            "1/1 [==============================] - 0s 7ms/step - loss: 3.8659 - mae: 3.8659\n",
            "Epoch 31/100\n",
            "1/1 [==============================] - 0s 6ms/step - loss: 3.9356 - mae: 3.9356\n",
            "Epoch 32/100\n",
            "1/1 [==============================] - 0s 5ms/step - loss: 3.8655 - mae: 3.8655\n",
            "Epoch 33/100\n",
            "1/1 [==============================] - 0s 5ms/step - loss: 3.9214 - mae: 3.9214\n",
            "Epoch 34/100\n",
            "1/1 [==============================] - 0s 5ms/step - loss: 3.8808 - mae: 3.8808\n",
            "Epoch 35/100\n",
            "1/1 [==============================] - 0s 6ms/step - loss: 3.8966 - mae: 3.8966\n",
            "Epoch 36/100\n",
            "1/1 [==============================] - 0s 6ms/step - loss: 3.8887 - mae: 3.8887\n",
            "Epoch 37/100\n",
            "1/1 [==============================] - 0s 6ms/step - loss: 3.8697 - mae: 3.8697\n",
            "Epoch 38/100\n",
            "1/1 [==============================] - 0s 5ms/step - loss: 3.8967 - mae: 3.8967\n",
            "Epoch 39/100\n",
            "1/1 [==============================] - 0s 8ms/step - loss: 3.8428 - mae: 3.8428\n",
            "Epoch 40/100\n",
            "1/1 [==============================] - 0s 11ms/step - loss: 3.9048 - mae: 3.9048\n",
            "Epoch 41/100\n",
            "1/1 [==============================] - 0s 14ms/step - loss: 3.8370 - mae: 3.8370\n",
            "Epoch 42/100\n",
            "1/1 [==============================] - 0s 5ms/step - loss: 3.8996 - mae: 3.8996\n",
            "Epoch 43/100\n",
            "1/1 [==============================] - 0s 5ms/step - loss: 3.8505 - mae: 3.8505\n",
            "Epoch 44/100\n",
            "1/1 [==============================] - 0s 4ms/step - loss: 3.8727 - mae: 3.8727\n",
            "Epoch 45/100\n",
            "1/1 [==============================] - 0s 5ms/step - loss: 3.8586 - mae: 3.8586\n",
            "Epoch 46/100\n",
            "1/1 [==============================] - 0s 5ms/step - loss: 3.8456 - mae: 3.8456\n",
            "Epoch 47/100\n",
            "1/1 [==============================] - 0s 6ms/step - loss: 3.8668 - mae: 3.8668\n",
            "Epoch 48/100\n",
            "1/1 [==============================] - 0s 4ms/step - loss: 3.8184 - mae: 3.8184\n",
            "Epoch 49/100\n",
            "1/1 [==============================] - 0s 6ms/step - loss: 3.8751 - mae: 3.8751\n",
            "Epoch 50/100\n",
            "1/1 [==============================] - 0s 5ms/step - loss: 3.8119 - mae: 3.8119\n",
            "Epoch 51/100\n",
            "1/1 [==============================] - 0s 6ms/step - loss: 3.8747 - mae: 3.8747\n",
            "Epoch 52/100\n",
            "1/1 [==============================] - 0s 7ms/step - loss: 3.8214 - mae: 3.8214\n",
            "Epoch 53/100\n",
            "1/1 [==============================] - 0s 8ms/step - loss: 3.8475 - mae: 3.8475\n",
            "Epoch 54/100\n",
            "1/1 [==============================] - 0s 6ms/step - loss: 3.8296 - mae: 3.8296\n",
            "Epoch 55/100\n",
            "1/1 [==============================] - 0s 5ms/step - loss: 3.8202 - mae: 3.8202\n",
            "Epoch 56/100\n",
            "1/1 [==============================] - 0s 5ms/step - loss: 3.8380 - mae: 3.8380\n",
            "Epoch 57/100\n",
            "1/1 [==============================] - 0s 5ms/step - loss: 3.7926 - mae: 3.7926\n",
            "Epoch 58/100\n",
            "1/1 [==============================] - 0s 7ms/step - loss: 3.8494 - mae: 3.8494\n",
            "Epoch 59/100\n",
            "1/1 [==============================] - 0s 6ms/step - loss: 3.7849 - mae: 3.7849\n",
            "Epoch 60/100\n",
            "1/1 [==============================] - 0s 4ms/step - loss: 3.8486 - mae: 3.8486\n",
            "Epoch 61/100\n",
            "1/1 [==============================] - 0s 7ms/step - loss: 3.7933 - mae: 3.7933\n",
            "Epoch 62/100\n",
            "1/1 [==============================] - 0s 6ms/step - loss: 3.8211 - mae: 3.8211\n",
            "Epoch 63/100\n",
            "1/1 [==============================] - 0s 6ms/step - loss: 3.8017 - mae: 3.8017\n",
            "Epoch 64/100\n",
            "1/1 [==============================] - 0s 9ms/step - loss: 3.7934 - mae: 3.7934\n",
            "Epoch 65/100\n",
            "1/1 [==============================] - 0s 7ms/step - loss: 3.8103 - mae: 3.8103\n",
            "Epoch 66/100\n",
            "1/1 [==============================] - 0s 6ms/step - loss: 3.7656 - mae: 3.7656\n",
            "Epoch 67/100\n",
            "1/1 [==============================] - 0s 6ms/step - loss: 3.8265 - mae: 3.8265\n",
            "Epoch 68/100\n",
            "1/1 [==============================] - 0s 10ms/step - loss: 3.7577 - mae: 3.7577\n",
            "Epoch 69/100\n",
            "1/1 [==============================] - 0s 7ms/step - loss: 3.8211 - mae: 3.8211\n",
            "Epoch 70/100\n",
            "1/1 [==============================] - 0s 5ms/step - loss: 3.7662 - mae: 3.7662\n",
            "Epoch 71/100\n",
            "1/1 [==============================] - 0s 7ms/step - loss: 3.7933 - mae: 3.7933\n",
            "Epoch 72/100\n",
            "1/1 [==============================] - 0s 6ms/step - loss: 3.7749 - mae: 3.7749\n",
            "Epoch 73/100\n",
            "1/1 [==============================] - 0s 5ms/step - loss: 3.7654 - mae: 3.7654\n",
            "Epoch 74/100\n",
            "1/1 [==============================] - 0s 10ms/step - loss: 3.7837 - mae: 3.7837\n",
            "Epoch 75/100\n",
            "1/1 [==============================] - 0s 4ms/step - loss: 3.7411 - mae: 3.7411\n",
            "Epoch 76/100\n",
            "1/1 [==============================] - 0s 5ms/step - loss: 3.8001 - mae: 3.8001\n",
            "Epoch 77/100\n",
            "1/1 [==============================] - 0s 6ms/step - loss: 3.7315 - mae: 3.7315\n",
            "Epoch 78/100\n",
            "1/1 [==============================] - 0s 8ms/step - loss: 3.7923 - mae: 3.7923\n",
            "Epoch 79/100\n",
            "1/1 [==============================] - 0s 4ms/step - loss: 3.7402 - mae: 3.7402\n",
            "Epoch 80/100\n",
            "1/1 [==============================] - 0s 9ms/step - loss: 3.7642 - mae: 3.7642\n",
            "Epoch 81/100\n",
            "1/1 [==============================] - 0s 4ms/step - loss: 3.7491 - mae: 3.7491\n",
            "Epoch 82/100\n",
            "1/1 [==============================] - 0s 6ms/step - loss: 3.7359 - mae: 3.7359\n",
            "Epoch 83/100\n",
            "1/1 [==============================] - 0s 7ms/step - loss: 3.7583 - mae: 3.7583\n",
            "Epoch 84/100\n",
            "1/1 [==============================] - 0s 6ms/step - loss: 3.7143 - mae: 3.7143\n",
            "Epoch 85/100\n",
            "1/1 [==============================] - 0s 7ms/step - loss: 3.7746 - mae: 3.7746\n",
            "Epoch 86/100\n",
            "1/1 [==============================] - 0s 5ms/step - loss: 3.7063 - mae: 3.7063\n",
            "Epoch 87/100\n",
            "1/1 [==============================] - 0s 6ms/step - loss: 3.7622 - mae: 3.7622\n",
            "Epoch 88/100\n",
            "1/1 [==============================] - 0s 6ms/step - loss: 3.7152 - mae: 3.7152\n",
            "Epoch 89/100\n",
            "1/1 [==============================] - 0s 7ms/step - loss: 3.7338 - mae: 3.7338\n",
            "Epoch 90/100\n",
            "1/1 [==============================] - 0s 5ms/step - loss: 3.7243 - mae: 3.7243\n",
            "Epoch 91/100\n",
            "1/1 [==============================] - 0s 7ms/step - loss: 3.7052 - mae: 3.7052\n",
            "Epoch 92/100\n",
            "1/1 [==============================] - 0s 5ms/step - loss: 3.7373 - mae: 3.7373\n",
            "Epoch 93/100\n",
            "1/1 [==============================] - 0s 6ms/step - loss: 3.6832 - mae: 3.6832\n",
            "Epoch 94/100\n",
            "1/1 [==============================] - 0s 5ms/step - loss: 3.7502 - mae: 3.7502\n",
            "Epoch 95/100\n",
            "1/1 [==============================] - 0s 7ms/step - loss: 3.6821 - mae: 3.6821\n",
            "Epoch 96/100\n",
            "1/1 [==============================] - 0s 9ms/step - loss: 3.7308 - mae: 3.7308\n",
            "Epoch 97/100\n",
            "1/1 [==============================] - 0s 7ms/step - loss: 3.6912 - mae: 3.6912\n",
            "Epoch 98/100\n",
            "1/1 [==============================] - 0s 4ms/step - loss: 3.7020 - mae: 3.7020\n",
            "Epoch 99/100\n",
            "1/1 [==============================] - 0s 5ms/step - loss: 3.7005 - mae: 3.7005\n",
            "Epoch 100/100\n",
            "1/1 [==============================] - 0s 5ms/step - loss: 3.6736 - mae: 3.6736\n"
          ]
        },
        {
          "output_type": "execute_result",
          "data": {
            "text/plain": [
              "<keras.callbacks.History at 0x7fa8c7eedf90>"
            ]
          },
          "metadata": {},
          "execution_count": 26
        }
      ]
    },
    {
      "cell_type": "code",
      "metadata": {
        "colab": {
          "base_uri": "https://localhost:8080/"
        },
        "id": "ueC-nLp5Cms4",
        "outputId": "c367b5ef-3ee0-4980-a413-1b7416697e26"
      },
      "source": [
        "model.predict([17])\n",
        "#The model is overfitting, because the loss errors are low but prediction on new data is bad"
      ],
      "execution_count": 28,
      "outputs": [
        {
          "output_type": "execute_result",
          "data": {
            "text/plain": [
              "array([[32.787727]], dtype=float32)"
            ]
          },
          "metadata": {},
          "execution_count": 28
        }
      ]
    },
    {
      "cell_type": "code",
      "metadata": {
        "colab": {
          "base_uri": "https://localhost:8080/"
        },
        "id": "Mv1vAPfYCmwB",
        "outputId": "ca247e35-45df-4232-8a4b-d27d7ff05abf"
      },
      "source": [
        "#Rebuild the model: increase the number of hidden layers\n",
        "\n",
        "# create the model\n",
        "model = tf.keras.Sequential([tf.keras.layers.Dense(50, activation=None),  \n",
        "                             tf.keras.layers.Dense(1)])\n",
        "\n",
        "# compile the model\n",
        "model.compile(loss='mae', optimizer=tf.keras.optimizers.Adam(lr=0.001), metrics =['mae'])\n",
        "\n",
        "#fit the model\n",
        "model.fit(X, y, epochs=100)"
      ],
      "execution_count": 40,
      "outputs": [
        {
          "output_type": "stream",
          "name": "stderr",
          "text": [
            "/usr/local/lib/python3.7/dist-packages/keras/optimizer_v2/optimizer_v2.py:356: UserWarning: The `lr` argument is deprecated, use `learning_rate` instead.\n",
            "  \"The `lr` argument is deprecated, use `learning_rate` instead.\")\n"
          ]
        },
        {
          "output_type": "stream",
          "name": "stdout",
          "text": [
            "Epoch 1/100\n",
            "1/1 [==============================] - 1s 627ms/step - loss: 14.6943 - mae: 14.6943\n",
            "Epoch 2/100\n",
            "1/1 [==============================] - 0s 8ms/step - loss: 14.6242 - mae: 14.6242\n",
            "Epoch 3/100\n",
            "1/1 [==============================] - 0s 7ms/step - loss: 14.5541 - mae: 14.5541\n",
            "Epoch 4/100\n",
            "1/1 [==============================] - 0s 5ms/step - loss: 14.4840 - mae: 14.4840\n",
            "Epoch 5/100\n",
            "1/1 [==============================] - 0s 8ms/step - loss: 14.4141 - mae: 14.4141\n",
            "Epoch 6/100\n",
            "1/1 [==============================] - 0s 5ms/step - loss: 14.3441 - mae: 14.3441\n",
            "Epoch 7/100\n",
            "1/1 [==============================] - 0s 7ms/step - loss: 14.2743 - mae: 14.2743\n",
            "Epoch 8/100\n",
            "1/1 [==============================] - 0s 5ms/step - loss: 14.2045 - mae: 14.2045\n",
            "Epoch 9/100\n",
            "1/1 [==============================] - 0s 8ms/step - loss: 14.1347 - mae: 14.1347\n",
            "Epoch 10/100\n",
            "1/1 [==============================] - 0s 8ms/step - loss: 14.0650 - mae: 14.0650\n",
            "Epoch 11/100\n",
            "1/1 [==============================] - 0s 5ms/step - loss: 13.9953 - mae: 13.9953\n",
            "Epoch 12/100\n",
            "1/1 [==============================] - 0s 7ms/step - loss: 13.9257 - mae: 13.9257\n",
            "Epoch 13/100\n",
            "1/1 [==============================] - 0s 5ms/step - loss: 13.8562 - mae: 13.8562\n",
            "Epoch 14/100\n",
            "1/1 [==============================] - 0s 8ms/step - loss: 13.7866 - mae: 13.7866\n",
            "Epoch 15/100\n",
            "1/1 [==============================] - 0s 8ms/step - loss: 13.7171 - mae: 13.7171\n",
            "Epoch 16/100\n",
            "1/1 [==============================] - 0s 15ms/step - loss: 13.6477 - mae: 13.6477\n",
            "Epoch 17/100\n",
            "1/1 [==============================] - 0s 6ms/step - loss: 13.5782 - mae: 13.5782\n",
            "Epoch 18/100\n",
            "1/1 [==============================] - 0s 19ms/step - loss: 13.5088 - mae: 13.5088\n",
            "Epoch 19/100\n",
            "1/1 [==============================] - 0s 10ms/step - loss: 13.4393 - mae: 13.4393\n",
            "Epoch 20/100\n",
            "1/1 [==============================] - 0s 12ms/step - loss: 13.3699 - mae: 13.3699\n",
            "Epoch 21/100\n",
            "1/1 [==============================] - 0s 10ms/step - loss: 13.3005 - mae: 13.3005\n",
            "Epoch 22/100\n",
            "1/1 [==============================] - 0s 10ms/step - loss: 13.2311 - mae: 13.2311\n",
            "Epoch 23/100\n",
            "1/1 [==============================] - 0s 12ms/step - loss: 13.1617 - mae: 13.1617\n",
            "Epoch 24/100\n",
            "1/1 [==============================] - 0s 7ms/step - loss: 13.0922 - mae: 13.0922\n",
            "Epoch 25/100\n",
            "1/1 [==============================] - 0s 10ms/step - loss: 13.0228 - mae: 13.0228\n",
            "Epoch 26/100\n",
            "1/1 [==============================] - 0s 6ms/step - loss: 12.9533 - mae: 12.9533\n",
            "Epoch 27/100\n",
            "1/1 [==============================] - 0s 10ms/step - loss: 12.8837 - mae: 12.8837\n",
            "Epoch 28/100\n",
            "1/1 [==============================] - 0s 5ms/step - loss: 12.8141 - mae: 12.8141\n",
            "Epoch 29/100\n",
            "1/1 [==============================] - 0s 6ms/step - loss: 12.7445 - mae: 12.7445\n",
            "Epoch 30/100\n",
            "1/1 [==============================] - 0s 7ms/step - loss: 12.6748 - mae: 12.6748\n",
            "Epoch 31/100\n",
            "1/1 [==============================] - 0s 9ms/step - loss: 12.6051 - mae: 12.6051\n",
            "Epoch 32/100\n",
            "1/1 [==============================] - 0s 5ms/step - loss: 12.5352 - mae: 12.5352\n",
            "Epoch 33/100\n",
            "1/1 [==============================] - 0s 15ms/step - loss: 12.4653 - mae: 12.4653\n",
            "Epoch 34/100\n",
            "1/1 [==============================] - 0s 9ms/step - loss: 12.3953 - mae: 12.3953\n",
            "Epoch 35/100\n",
            "1/1 [==============================] - 0s 7ms/step - loss: 12.3251 - mae: 12.3251\n",
            "Epoch 36/100\n",
            "1/1 [==============================] - 0s 6ms/step - loss: 12.2549 - mae: 12.2549\n",
            "Epoch 37/100\n",
            "1/1 [==============================] - 0s 6ms/step - loss: 12.1845 - mae: 12.1845\n",
            "Epoch 38/100\n",
            "1/1 [==============================] - 0s 7ms/step - loss: 12.1140 - mae: 12.1140\n",
            "Epoch 39/100\n",
            "1/1 [==============================] - 0s 6ms/step - loss: 12.0434 - mae: 12.0434\n",
            "Epoch 40/100\n",
            "1/1 [==============================] - 0s 8ms/step - loss: 11.9726 - mae: 11.9726\n",
            "Epoch 41/100\n",
            "1/1 [==============================] - 0s 5ms/step - loss: 11.9017 - mae: 11.9017\n",
            "Epoch 42/100\n",
            "1/1 [==============================] - 0s 7ms/step - loss: 11.8306 - mae: 11.8306\n",
            "Epoch 43/100\n",
            "1/1 [==============================] - 0s 7ms/step - loss: 11.7593 - mae: 11.7593\n",
            "Epoch 44/100\n",
            "1/1 [==============================] - 0s 14ms/step - loss: 11.6878 - mae: 11.6878\n",
            "Epoch 45/100\n",
            "1/1 [==============================] - 0s 14ms/step - loss: 11.6162 - mae: 11.6162\n",
            "Epoch 46/100\n",
            "1/1 [==============================] - 0s 12ms/step - loss: 11.5444 - mae: 11.5444\n",
            "Epoch 47/100\n",
            "1/1 [==============================] - 0s 7ms/step - loss: 11.4723 - mae: 11.4723\n",
            "Epoch 48/100\n",
            "1/1 [==============================] - 0s 15ms/step - loss: 11.4001 - mae: 11.4001\n",
            "Epoch 49/100\n",
            "1/1 [==============================] - 0s 11ms/step - loss: 11.3276 - mae: 11.3276\n",
            "Epoch 50/100\n",
            "1/1 [==============================] - 0s 13ms/step - loss: 11.2549 - mae: 11.2549\n",
            "Epoch 51/100\n",
            "1/1 [==============================] - 0s 12ms/step - loss: 11.1819 - mae: 11.1819\n",
            "Epoch 52/100\n",
            "1/1 [==============================] - 0s 11ms/step - loss: 11.1088 - mae: 11.1088\n",
            "Epoch 53/100\n",
            "1/1 [==============================] - 0s 8ms/step - loss: 11.0353 - mae: 11.0353\n",
            "Epoch 54/100\n",
            "1/1 [==============================] - 0s 10ms/step - loss: 10.9616 - mae: 10.9616\n",
            "Epoch 55/100\n",
            "1/1 [==============================] - 0s 6ms/step - loss: 10.8877 - mae: 10.8877\n",
            "Epoch 56/100\n",
            "1/1 [==============================] - 0s 8ms/step - loss: 10.8135 - mae: 10.8135\n",
            "Epoch 57/100\n",
            "1/1 [==============================] - 0s 7ms/step - loss: 10.7389 - mae: 10.7389\n",
            "Epoch 58/100\n",
            "1/1 [==============================] - 0s 13ms/step - loss: 10.6642 - mae: 10.6642\n",
            "Epoch 59/100\n",
            "1/1 [==============================] - 0s 12ms/step - loss: 10.5891 - mae: 10.5891\n",
            "Epoch 60/100\n",
            "1/1 [==============================] - 0s 16ms/step - loss: 10.5137 - mae: 10.5137\n",
            "Epoch 61/100\n",
            "1/1 [==============================] - 0s 5ms/step - loss: 10.4380 - mae: 10.4380\n",
            "Epoch 62/100\n",
            "1/1 [==============================] - 0s 7ms/step - loss: 10.3619 - mae: 10.3619\n",
            "Epoch 63/100\n",
            "1/1 [==============================] - 0s 6ms/step - loss: 10.2856 - mae: 10.2856\n",
            "Epoch 64/100\n",
            "1/1 [==============================] - 0s 6ms/step - loss: 10.2089 - mae: 10.2089\n",
            "Epoch 65/100\n",
            "1/1 [==============================] - 0s 8ms/step - loss: 10.1319 - mae: 10.1319\n",
            "Epoch 66/100\n",
            "1/1 [==============================] - 0s 6ms/step - loss: 10.0546 - mae: 10.0546\n",
            "Epoch 67/100\n",
            "1/1 [==============================] - 0s 8ms/step - loss: 9.9769 - mae: 9.9769\n",
            "Epoch 68/100\n",
            "1/1 [==============================] - 0s 5ms/step - loss: 9.8988 - mae: 9.8988\n",
            "Epoch 69/100\n",
            "1/1 [==============================] - 0s 7ms/step - loss: 9.8204 - mae: 9.8204\n",
            "Epoch 70/100\n",
            "1/1 [==============================] - 0s 6ms/step - loss: 9.7416 - mae: 9.7416\n",
            "Epoch 71/100\n",
            "1/1 [==============================] - 0s 8ms/step - loss: 9.6624 - mae: 9.6624\n",
            "Epoch 72/100\n",
            "1/1 [==============================] - 0s 8ms/step - loss: 9.5829 - mae: 9.5829\n",
            "Epoch 73/100\n",
            "1/1 [==============================] - 0s 5ms/step - loss: 9.5029 - mae: 9.5029\n",
            "Epoch 74/100\n",
            "1/1 [==============================] - 0s 6ms/step - loss: 9.4226 - mae: 9.4226\n",
            "Epoch 75/100\n",
            "1/1 [==============================] - 0s 6ms/step - loss: 9.3418 - mae: 9.3418\n",
            "Epoch 76/100\n",
            "1/1 [==============================] - 0s 8ms/step - loss: 9.2607 - mae: 9.2607\n",
            "Epoch 77/100\n",
            "1/1 [==============================] - 0s 5ms/step - loss: 9.1791 - mae: 9.1791\n",
            "Epoch 78/100\n",
            "1/1 [==============================] - 0s 7ms/step - loss: 9.0971 - mae: 9.0971\n",
            "Epoch 79/100\n",
            "1/1 [==============================] - 0s 7ms/step - loss: 9.0147 - mae: 9.0147\n",
            "Epoch 80/100\n",
            "1/1 [==============================] - 0s 9ms/step - loss: 8.9318 - mae: 8.9318\n",
            "Epoch 81/100\n",
            "1/1 [==============================] - 0s 8ms/step - loss: 8.8485 - mae: 8.8485\n",
            "Epoch 82/100\n",
            "1/1 [==============================] - 0s 13ms/step - loss: 8.7648 - mae: 8.7648\n",
            "Epoch 83/100\n",
            "1/1 [==============================] - 0s 15ms/step - loss: 8.6806 - mae: 8.6806\n",
            "Epoch 84/100\n",
            "1/1 [==============================] - 0s 13ms/step - loss: 8.5959 - mae: 8.5959\n",
            "Epoch 85/100\n",
            "1/1 [==============================] - 0s 20ms/step - loss: 8.5108 - mae: 8.5108\n",
            "Epoch 86/100\n",
            "1/1 [==============================] - 0s 7ms/step - loss: 8.4252 - mae: 8.4252\n",
            "Epoch 87/100\n",
            "1/1 [==============================] - 0s 5ms/step - loss: 8.3391 - mae: 8.3391\n",
            "Epoch 88/100\n",
            "1/1 [==============================] - 0s 7ms/step - loss: 8.2526 - mae: 8.2526\n",
            "Epoch 89/100\n",
            "1/1 [==============================] - 0s 8ms/step - loss: 8.1655 - mae: 8.1655\n",
            "Epoch 90/100\n",
            "1/1 [==============================] - 0s 7ms/step - loss: 8.0780 - mae: 8.0780\n",
            "Epoch 91/100\n",
            "1/1 [==============================] - 0s 5ms/step - loss: 7.9900 - mae: 7.9900\n",
            "Epoch 92/100\n",
            "1/1 [==============================] - 0s 5ms/step - loss: 7.9014 - mae: 7.9014\n",
            "Epoch 93/100\n",
            "1/1 [==============================] - 0s 5ms/step - loss: 7.8124 - mae: 7.8124\n",
            "Epoch 94/100\n",
            "1/1 [==============================] - 0s 5ms/step - loss: 7.7228 - mae: 7.7228\n",
            "Epoch 95/100\n",
            "1/1 [==============================] - 0s 5ms/step - loss: 7.6327 - mae: 7.6327\n",
            "Epoch 96/100\n",
            "1/1 [==============================] - 0s 7ms/step - loss: 7.5421 - mae: 7.5421\n",
            "Epoch 97/100\n",
            "1/1 [==============================] - 0s 5ms/step - loss: 7.4510 - mae: 7.4510\n",
            "Epoch 98/100\n",
            "1/1 [==============================] - 0s 7ms/step - loss: 7.3593 - mae: 7.3593\n",
            "Epoch 99/100\n",
            "1/1 [==============================] - 0s 5ms/step - loss: 7.2671 - mae: 7.2671\n",
            "Epoch 100/100\n",
            "1/1 [==============================] - 0s 7ms/step - loss: 7.1743 - mae: 7.1743\n"
          ]
        },
        {
          "output_type": "execute_result",
          "data": {
            "text/plain": [
              "<keras.callbacks.History at 0x7fa8cbaaba50>"
            ]
          },
          "metadata": {},
          "execution_count": 40
        }
      ]
    },
    {
      "cell_type": "code",
      "metadata": {
        "colab": {
          "base_uri": "https://localhost:8080/"
        },
        "id": "1qs37s-kCmyv",
        "outputId": "47147e8c-8d70-455c-9f05-4a48efc2d701"
      },
      "source": [
        "model.predict([20])"
      ],
      "execution_count": 42,
      "outputs": [
        {
          "output_type": "execute_result",
          "data": {
            "text/plain": [
              "array([[31.647211]], dtype=float32)"
            ]
          },
          "metadata": {},
          "execution_count": 42
        }
      ]
    },
    {
      "cell_type": "code",
      "metadata": {
        "id": "z5XecF6gCm1z"
      },
      "source": [
        ""
      ],
      "execution_count": null,
      "outputs": []
    }
  ]
}