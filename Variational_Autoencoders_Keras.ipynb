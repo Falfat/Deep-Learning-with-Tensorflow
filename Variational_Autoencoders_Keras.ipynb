{
  "nbformat": 4,
  "nbformat_minor": 0,
  "metadata": {
    "colab": {
      "name": "Variational_Autoencoders_Keras.ipynb",
      "provenance": [],
      "collapsed_sections": []
    },
    "kernelspec": {
      "name": "python3",
      "display_name": "Python 3"
    },
    "language_info": {
      "name": "python"
    }
  },
  "cells": [
    {
      "cell_type": "code",
      "metadata": {
        "id": "deFr2vgjj5NQ"
      },
      "source": [
        "#import libraries\n",
        "import numpy as np\n",
        "import matplotlib.pyplot as plt\n",
        "import tensorflow as tf"
      ],
      "execution_count": 1,
      "outputs": []
    },
    {
      "cell_type": "code",
      "metadata": {
        "id": "eZqeD08qlGtP"
      },
      "source": [
        "#Neural network parameters\n",
        "learning_param = 0.001\n",
        "epochs = 30000\n",
        "batch_size = 32\n",
        "\n",
        "#Network parameters\n",
        "image_dimension = 784 #image size is 28x28\n",
        "neural_network_dimension = 512 #hidden layer of the NN, Both encoder and decoder\n",
        "\n",
        "#\n",
        "latent_vraiable_dimension = 2\n",
        "\n",
        "#random initialization of the NN\n",
        "\n"
      ],
      "execution_count": null,
      "outputs": []
    }
  ]
}