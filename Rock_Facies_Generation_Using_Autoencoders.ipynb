{
  "nbformat": 4,
  "nbformat_minor": 0,
  "metadata": {
    "colab": {
      "name": "Rock_Facies_Generation_Using_Autoencoders.ipynb",
      "provenance": []
    },
    "kernelspec": {
      "name": "python3",
      "display_name": "Python 3"
    },
    "language_info": {
      "name": "python"
    }
  },
  "cells": [
    {
      "cell_type": "code",
      "metadata": {
        "id": "XuYMuLg4gufM"
      },
      "source": [
        "import tensorflow as tf\n",
        "import numpy as np\n",
        "import matplotlib.pyplot as plt\n",
        "import keras\n",
        "from keras import layers"
      ],
      "execution_count": 64,
      "outputs": []
    },
    {
      "cell_type": "code",
      "metadata": {
        "colab": {
          "base_uri": "https://localhost:8080/"
        },
        "id": "CZV09fWBg3u-",
        "outputId": "a6d7dfea-2308-455c-a96d-ef3a5ff99a2a"
      },
      "source": [
        "ls =[]\n",
        "\n",
        "y = np.random.randint(3, 8, 1)\n",
        "y"
      ],
      "execution_count": 65,
      "outputs": [
        {
          "output_type": "execute_result",
          "data": {
            "text/plain": [
              "array([4])"
            ]
          },
          "metadata": {},
          "execution_count": 65
        }
      ]
    },
    {
      "cell_type": "code",
      "metadata": {
        "id": "mOT0haOUnxT3"
      },
      "source": [
        "def randNums(a,b,s):\n",
        "    #finds n random ints in [a,b] with sum of s\n",
        "    import numpy\n",
        "    #select the number of layers randomly\n",
        "    n = np.random.randint(3, 8, 1)\n",
        "    hit = False\n",
        "    while not hit:\n",
        "      #declare number of layers and total thickness\n",
        "        total, count = 0,0\n",
        "      #declare a list to store the thicknesses\n",
        "        nums = []\n",
        "      #if the sum of the thicknesses is less than required\n",
        "      #and number of layers is less tha  required\n",
        "        while total < s and count < n:\n",
        "          #generate a random number of layers\n",
        "            r = np.random.randint(a,b)\n",
        "            #add to total\n",
        "            total += r\n",
        "            #add 1 count\n",
        "            count += 1\n",
        "            #append to list\n",
        "            nums.append(r)\n",
        "        #if either of the 2 conditions are fulfiled, stop.\n",
        "        if total == s and count == n: hit = True\n",
        "    return nums"
      ],
      "execution_count": 66,
      "outputs": []
    },
    {
      "cell_type": "code",
      "metadata": {
        "id": "u7iyDh9jpDRA"
      },
      "source": [
        ""
      ],
      "execution_count": 210,
      "outputs": []
    },
    {
      "cell_type": "code",
      "metadata": {
        "colab": {
          "base_uri": "https://localhost:8080/"
        },
        "id": "se1pyVoCqDmn",
        "outputId": "46466f4f-3f64-468e-aea5-5385f35ae877"
      },
      "source": [
        "ls = []\n",
        "\n",
        "for i in range(10000):\n",
        "  a = randNums(5, 25, 50)\n",
        "  global_main = np.zeros((a[0], 10))\n",
        "  for i in range(global_main.shape[0]):\n",
        "    global_main[i].fill(np.random.lognormal(2.5, 1))\n",
        "  for i in range(1, len(a)):\n",
        "    new = np.zeros((a[i], 10))\n",
        "    for i in range(new.shape[0]):\n",
        "      new[i].fill(np.random.lognormal(2.5, 1))\n",
        "    global_main = np.concatenate((global_main, new), axis=0)\n",
        "  ls.append(global_main)\n",
        "\n",
        "len(ls)\n",
        "data_train = np.array(ls)\n",
        "data_train.shape\n",
        "# for i in range(1, 10):\n",
        "#   a = randNums(5, 25, 50)\n",
        "#   main = np.zeros((a[0], 10))\n",
        "#   for i in range(main.shape[0]):\n",
        "#     main[i].fill(np.random.lognormal(2.5, 1))\n",
        "#   for i in range(1, len(a)):\n",
        "#     new = np.zeros((a[i], 10))\n",
        "#     for i in range(new.shape[0]):\n",
        "#       new[i].fill(np.random.lognormal(2.5, 1))\n",
        "#   global_main = np.vstack((global_main, new))\n"
      ],
      "execution_count": 67,
      "outputs": [
        {
          "output_type": "execute_result",
          "data": {
            "text/plain": [
              "(10000, 50, 10)"
            ]
          },
          "metadata": {},
          "execution_count": 67
        }
      ]
    },
    {
      "cell_type": "code",
      "metadata": {
        "colab": {
          "base_uri": "https://localhost:8080/"
        },
        "id": "aYzccaPGqWSA",
        "outputId": "a434a894-48f4-4722-87b1-a5756b5cbe77"
      },
      "source": [
        "ls = []\n",
        "\n",
        "for i in range(1000):\n",
        "  a = randNums(5, 25, 50)\n",
        "  global_main = np.zeros((a[0], 10))\n",
        "  for i in range(global_main.shape[0]):\n",
        "    global_main[i].fill(np.random.lognormal(2.5, 1))\n",
        "  for i in range(1, len(a)):\n",
        "    new = np.zeros((a[i], 10))\n",
        "    for i in range(new.shape[0]):\n",
        "      new[i].fill(np.random.lognormal(2.5, 1))\n",
        "    global_main = np.concatenate((global_main, new), axis=0)\n",
        "  ls.append(global_main)\n",
        "\n",
        "len(ls)\n",
        "data_test = np.array(ls)\n",
        "data_test.shape"
      ],
      "execution_count": 68,
      "outputs": [
        {
          "output_type": "execute_result",
          "data": {
            "text/plain": [
              "(1000, 50, 10)"
            ]
          },
          "metadata": {},
          "execution_count": 68
        }
      ]
    },
    {
      "cell_type": "code",
      "metadata": {
        "colab": {
          "base_uri": "https://localhost:8080/",
          "height": 266
        },
        "id": "gQAJDao8xbU5",
        "outputId": "81316802-32fb-4349-cfa6-f976674e01dc"
      },
      "source": [
        "plt.imshow(data_train[0], cmap='hot', interpolation='nearest')\n",
        "plt.show()"
      ],
      "execution_count": 69,
      "outputs": [
        {
          "output_type": "display_data",
          "data": {
            "image/png": "[encoded data removed]",
            "text/plain": [
              "<Figure size 432x288 with 1 Axes>"
            ]
          },
          "metadata": {
            "needs_background": "light"
          }
        }
      ]
    },
    {
      "cell_type": "code",
      "metadata": {
        "id": "rzvqvedpW3Qj"
      },
      "source": [
        "#flatten data\n",
        "data_train = data_train.reshape((len(data_train), np.prod(data_train.shape[1:])))\n",
        "data_test = data_test.reshape((len(data_test), np.prod(data_test.shape[1:])))"
      ],
      "execution_count": 70,
      "outputs": []
    },
    {
      "cell_type": "code",
      "metadata": {
        "colab": {
          "base_uri": "https://localhost:8080/"
        },
        "id": "6ibVygMguwis",
        "outputId": "5a5eab97-1a1d-4664-bcd2-fcd9c5e81544"
      },
      "source": [
        "data_train.shape"
      ],
      "execution_count": 71,
      "outputs": [
        {
          "output_type": "execute_result",
          "data": {
            "text/plain": [
              "(10000, 500)"
            ]
          },
          "metadata": {},
          "execution_count": 71
        }
      ]
    },
    {
      "cell_type": "code",
      "metadata": {
        "id": "n5bTqzxwKgRp"
      },
      "source": [
        "import pandas as pd\n",
        "pd."
      ],
      "execution_count": null,
      "outputs": []
    },
    {
      "cell_type": "code",
      "metadata": {
        "id": "Fo5-jJOEu0jv"
      },
      "source": [
        "#construct the model\n",
        "from keras import regularizers\n",
        "\n",
        "#declare a size for the bottleneck\n",
        "encoding_dim = 20 #compression of factor 25, assuming the input is 784 floats (28 by 28 pixels)\n",
        "\n",
        "#input image size\n",
        "input_img = keras.Input(shape=(500,))\n",
        "\n",
        "#encoded representation of the input\n",
        "encoded = layers.Dense(encoding_dim)(input_img)\n",
        "\n",
        "#lossy representation of the input\n",
        "decoded = layers.Dense(500)(encoded)\n",
        "\n",
        "#Main model that maps input to output\n",
        "autoencoder = keras.Model(input_img, decoded)"
      ],
      "execution_count": 10,
      "outputs": []
    },
    {
      "cell_type": "code",
      "metadata": {
        "id": "OHtJK7-0KffL"
      },
      "source": [
        ""
      ],
      "execution_count": null,
      "outputs": []
    },
    {
      "cell_type": "code",
      "metadata": {
        "id": "WfZf8LwOvwlj"
      },
      "source": [
        "#mapping input to its encoded representation through a separate encoder model\n",
        "encoder = keras.Model(input_img, encoded)"
      ],
      "execution_count": 11,
      "outputs": []
    },
    {
      "cell_type": "code",
      "metadata": {
        "id": "h4ZAJq_fwBKO"
      },
      "source": [
        "#creating a separate decoder \n",
        "encoded_input = keras.Input(shape=(encoding_dim,))\n",
        "#retrieve the last layer of the autoencoder model\n",
        "decoded_layer = autoencoder.layers[-1]\n",
        "#create the decoder model\n",
        "decoder = keras.Model(encoded_input, decoded_layer(encoded_input))"
      ],
      "execution_count": 12,
      "outputs": []
    },
    {
      "cell_type": "code",
      "metadata": {
        "id": "3E6FfapOwEEu"
      },
      "source": [
        "#confidure the model to use a per=pixel binary cross entropy loss, and the Adam optimizer\n",
        "autoencoder.compile(optimizer=tf.keras.optimizers.Adam(learning_rate=1e-4), loss='binary_crossentropy')"
      ],
      "execution_count": 13,
      "outputs": []
    },
    {
      "cell_type": "code",
      "metadata": {
        "colab": {
          "base_uri": "https://localhost:8080/"
        },
        "id": "d97qPEvBwGOt",
        "outputId": "0b004354-3846-456c-9e71-8561471567e4"
      },
      "source": [
        "#train autoencoder for 50 epochs\n",
        "from sklearn import preprocessing\n",
        "min_max_scaler = preprocessing.MinMaxScaler()\n",
        "data_train = min_max_scaler.fit_transform(data_train)\n",
        "data_test = min_max_scaler.fit_transform(data_test)\n",
        "autoencoder.fit(data_train, data_train, epochs=100, batch_size=256, shuffle=True, verbose=1, validation_data=(data_test, data_test))"
      ],
      "execution_count": 14,
      "outputs": [
        {
          "output_type": "stream",
          "name": "stdout",
          "text": [
            "Epoch 1/100\n",
            "40/40 [==============================] - 1s 17ms/step - loss: 0.3526 - val_loss: 0.5963\n",
            "Epoch 2/100\n",
            "40/40 [==============================] - 0s 9ms/step - loss: 0.3180 - val_loss: 0.5545\n",
            "Epoch 3/100\n",
            "40/40 [==============================] - 0s 8ms/step - loss: 0.2936 - val_loss: 0.5212\n",
            "Epoch 4/100\n",
            "40/40 [==============================] - 0s 9ms/step - loss: 0.2739 - val_loss: 0.4916\n",
            "Epoch 5/100\n",
            "40/40 [==============================] - 0s 9ms/step - loss: 0.2571 - val_loss: 0.4650\n",
            "Epoch 6/100\n",
            "40/40 [==============================] - 0s 9ms/step - loss: 0.2426 - val_loss: 0.4413\n",
            "Epoch 7/100\n",
            "40/40 [==============================] - 0s 9ms/step - loss: 0.2307 - val_loss: 0.4219\n",
            "Epoch 8/100\n",
            "40/40 [==============================] - 0s 10ms/step - loss: 0.2209 - val_loss: 0.4041\n",
            "Epoch 9/100\n",
            "40/40 [==============================] - 0s 9ms/step - loss: 0.2124 - val_loss: 0.3886\n",
            "Epoch 10/100\n",
            "40/40 [==============================] - 0s 8ms/step - loss: 0.2047 - val_loss: 0.3738\n",
            "Epoch 11/100\n",
            "40/40 [==============================] - 0s 8ms/step - loss: 0.1983 - val_loss: 0.3592\n",
            "Epoch 12/100\n",
            "40/40 [==============================] - 0s 8ms/step - loss: 0.1925 - val_loss: 0.3471\n",
            "Epoch 13/100\n",
            "40/40 [==============================] - 0s 9ms/step - loss: 0.1875 - val_loss: 0.3367\n",
            "Epoch 14/100\n",
            "40/40 [==============================] - 0s 9ms/step - loss: 0.1833 - val_loss: 0.3282\n",
            "Epoch 15/100\n",
            "40/40 [==============================] - 0s 8ms/step - loss: 0.1799 - val_loss: 0.3206\n",
            "Epoch 16/100\n",
            "40/40 [==============================] - 0s 8ms/step - loss: 0.1771 - val_loss: 0.3135\n",
            "Epoch 17/100\n",
            "40/40 [==============================] - 0s 8ms/step - loss: 0.1748 - val_loss: 0.3073\n",
            "Epoch 18/100\n",
            "40/40 [==============================] - 0s 8ms/step - loss: 0.1731 - val_loss: 0.3020\n",
            "Epoch 19/100\n",
            "40/40 [==============================] - 0s 8ms/step - loss: 0.1716 - val_loss: 0.2982\n",
            "Epoch 20/100\n",
            "40/40 [==============================] - 0s 8ms/step - loss: 0.1702 - val_loss: 0.2945\n",
            "Epoch 21/100\n",
            "40/40 [==============================] - 0s 9ms/step - loss: 0.1688 - val_loss: 0.2904\n",
            "Epoch 22/100\n",
            "40/40 [==============================] - 0s 9ms/step - loss: 0.1677 - val_loss: 0.2874\n",
            "Epoch 23/100\n",
            "40/40 [==============================] - 0s 8ms/step - loss: 0.1668 - val_loss: 0.2848\n",
            "Epoch 24/100\n",
            "40/40 [==============================] - 0s 8ms/step - loss: 0.1660 - val_loss: 0.2820\n",
            "Epoch 25/100\n",
            "40/40 [==============================] - 0s 9ms/step - loss: 0.1652 - val_loss: 0.2801\n",
            "Epoch 26/100\n",
            "40/40 [==============================] - 0s 8ms/step - loss: 0.1644 - val_loss: 0.2779\n",
            "Epoch 27/100\n",
            "40/40 [==============================] - 0s 8ms/step - loss: 0.1635 - val_loss: 0.2757\n",
            "Epoch 28/100\n",
            "40/40 [==============================] - 0s 8ms/step - loss: 0.1628 - val_loss: 0.2739\n",
            "Epoch 29/100\n",
            "40/40 [==============================] - 0s 8ms/step - loss: 0.1621 - val_loss: 0.2717\n",
            "Epoch 30/100\n",
            "40/40 [==============================] - 0s 8ms/step - loss: 0.1617 - val_loss: 0.2702\n",
            "Epoch 31/100\n",
            "40/40 [==============================] - 0s 8ms/step - loss: 0.1613 - val_loss: 0.2686\n",
            "Epoch 32/100\n",
            "40/40 [==============================] - 0s 8ms/step - loss: 0.1610 - val_loss: 0.2674\n",
            "Epoch 33/100\n",
            "40/40 [==============================] - 0s 8ms/step - loss: 0.1607 - val_loss: 0.2666\n",
            "Epoch 34/100\n",
            "40/40 [==============================] - 0s 8ms/step - loss: 0.1604 - val_loss: 0.2659\n",
            "Epoch 35/100\n",
            "40/40 [==============================] - 0s 9ms/step - loss: 0.1602 - val_loss: 0.2650\n",
            "Epoch 36/100\n",
            "40/40 [==============================] - 0s 8ms/step - loss: 0.1600 - val_loss: 0.2644\n",
            "Epoch 37/100\n",
            "40/40 [==============================] - 0s 8ms/step - loss: 0.1598 - val_loss: 0.2636\n",
            "Epoch 38/100\n",
            "40/40 [==============================] - 0s 8ms/step - loss: 0.1597 - val_loss: 0.2629\n",
            "Epoch 39/100\n",
            "40/40 [==============================] - 0s 8ms/step - loss: 0.1595 - val_loss: 0.2622\n",
            "Epoch 40/100\n",
            "40/40 [==============================] - 0s 9ms/step - loss: 0.1593 - val_loss: 0.2619\n",
            "Epoch 41/100\n",
            "40/40 [==============================] - 0s 9ms/step - loss: 0.1592 - val_loss: 0.2613\n",
            "Epoch 42/100\n",
            "40/40 [==============================] - 0s 8ms/step - loss: 0.1591 - val_loss: 0.2607\n",
            "Epoch 43/100\n",
            "40/40 [==============================] - 0s 8ms/step - loss: 0.1589 - val_loss: 0.2603\n",
            "Epoch 44/100\n",
            "40/40 [==============================] - 0s 9ms/step - loss: 0.1588 - val_loss: 0.2600\n",
            "Epoch 45/100\n",
            "40/40 [==============================] - 0s 8ms/step - loss: 0.1587 - val_loss: 0.2598\n",
            "Epoch 46/100\n",
            "40/40 [==============================] - 0s 9ms/step - loss: 0.1586 - val_loss: 0.2592\n",
            "Epoch 47/100\n",
            "40/40 [==============================] - 0s 8ms/step - loss: 0.1585 - val_loss: 0.2586\n",
            "Epoch 48/100\n",
            "40/40 [==============================] - 0s 8ms/step - loss: 0.1584 - val_loss: 0.2583\n",
            "Epoch 49/100\n",
            "40/40 [==============================] - 0s 8ms/step - loss: 0.1583 - val_loss: 0.2580\n",
            "Epoch 50/100\n",
            "40/40 [==============================] - 0s 8ms/step - loss: 0.1582 - val_loss: 0.2577\n",
            "Epoch 51/100\n",
            "40/40 [==============================] - 0s 8ms/step - loss: 0.1581 - val_loss: 0.2575\n",
            "Epoch 52/100\n",
            "40/40 [==============================] - 0s 8ms/step - loss: 0.1580 - val_loss: 0.2572\n",
            "Epoch 53/100\n",
            "40/40 [==============================] - 0s 9ms/step - loss: 0.1579 - val_loss: 0.2570\n",
            "Epoch 54/100\n",
            "40/40 [==============================] - 0s 8ms/step - loss: 0.1578 - val_loss: 0.2569\n",
            "Epoch 55/100\n",
            "40/40 [==============================] - 0s 9ms/step - loss: 0.1577 - val_loss: 0.2566\n",
            "Epoch 56/100\n",
            "40/40 [==============================] - 0s 9ms/step - loss: 0.1577 - val_loss: 0.2564\n",
            "Epoch 57/100\n",
            "40/40 [==============================] - 0s 8ms/step - loss: 0.1576 - val_loss: 0.2561\n",
            "Epoch 58/100\n",
            "40/40 [==============================] - 0s 9ms/step - loss: 0.1575 - val_loss: 0.2559\n",
            "Epoch 59/100\n",
            "40/40 [==============================] - 0s 9ms/step - loss: 0.1575 - val_loss: 0.2553\n",
            "Epoch 60/100\n",
            "40/40 [==============================] - 0s 8ms/step - loss: 0.1574 - val_loss: 0.2551\n",
            "Epoch 61/100\n",
            "40/40 [==============================] - 0s 9ms/step - loss: 0.1573 - val_loss: 0.2549\n",
            "Epoch 62/100\n",
            "40/40 [==============================] - 0s 8ms/step - loss: 0.1572 - val_loss: 0.2549\n",
            "Epoch 63/100\n",
            "40/40 [==============================] - 0s 8ms/step - loss: 0.1571 - val_loss: 0.2546\n",
            "Epoch 64/100\n",
            "40/40 [==============================] - 0s 9ms/step - loss: 0.1571 - val_loss: 0.2545\n",
            "Epoch 65/100\n",
            "40/40 [==============================] - 0s 8ms/step - loss: 0.1570 - val_loss: 0.2544\n",
            "Epoch 66/100\n",
            "40/40 [==============================] - 0s 8ms/step - loss: 0.1569 - val_loss: 0.2542\n",
            "Epoch 67/100\n",
            "40/40 [==============================] - 0s 8ms/step - loss: 0.1569 - val_loss: 0.2541\n",
            "Epoch 68/100\n",
            "40/40 [==============================] - 0s 9ms/step - loss: 0.1568 - val_loss: 0.2539\n",
            "Epoch 69/100\n",
            "40/40 [==============================] - 0s 8ms/step - loss: 0.1568 - val_loss: 0.2537\n",
            "Epoch 70/100\n",
            "40/40 [==============================] - 0s 8ms/step - loss: 0.1567 - val_loss: 0.2535\n",
            "Epoch 71/100\n",
            "40/40 [==============================] - 0s 8ms/step - loss: 0.1566 - val_loss: 0.2534\n",
            "Epoch 72/100\n",
            "40/40 [==============================] - 0s 8ms/step - loss: 0.1566 - val_loss: 0.2534\n",
            "Epoch 73/100\n",
            "40/40 [==============================] - 0s 9ms/step - loss: 0.1565 - val_loss: 0.2533\n",
            "Epoch 74/100\n",
            "40/40 [==============================] - 0s 9ms/step - loss: 0.1565 - val_loss: 0.2532\n",
            "Epoch 75/100\n",
            "40/40 [==============================] - 0s 8ms/step - loss: 0.1564 - val_loss: 0.2532\n",
            "Epoch 76/100\n",
            "40/40 [==============================] - 0s 8ms/step - loss: 0.1564 - val_loss: 0.2531\n",
            "Epoch 77/100\n",
            "40/40 [==============================] - 0s 8ms/step - loss: 0.1563 - val_loss: 0.2529\n",
            "Epoch 78/100\n",
            "40/40 [==============================] - 0s 9ms/step - loss: 0.1563 - val_loss: 0.2526\n",
            "Epoch 79/100\n",
            "40/40 [==============================] - 0s 9ms/step - loss: 0.1562 - val_loss: 0.2524\n",
            "Epoch 80/100\n",
            "40/40 [==============================] - 0s 8ms/step - loss: 0.1562 - val_loss: 0.2523\n",
            "Epoch 81/100\n",
            "40/40 [==============================] - 0s 9ms/step - loss: 0.1561 - val_loss: 0.2522\n",
            "Epoch 82/100\n",
            "40/40 [==============================] - 0s 9ms/step - loss: 0.1561 - val_loss: 0.2521\n",
            "Epoch 83/100\n",
            "40/40 [==============================] - 0s 8ms/step - loss: 0.1560 - val_loss: 0.2521\n",
            "Epoch 84/100\n",
            "40/40 [==============================] - 0s 8ms/step - loss: 0.1560 - val_loss: 0.2519\n",
            "Epoch 85/100\n",
            "40/40 [==============================] - 0s 9ms/step - loss: 0.1559 - val_loss: 0.2518\n",
            "Epoch 86/100\n",
            "40/40 [==============================] - 0s 8ms/step - loss: 0.1559 - val_loss: 0.2517\n",
            "Epoch 87/100\n",
            "40/40 [==============================] - 0s 8ms/step - loss: 0.1559 - val_loss: 0.2517\n",
            "Epoch 88/100\n",
            "40/40 [==============================] - 0s 9ms/step - loss: 0.1558 - val_loss: 0.2516\n",
            "Epoch 89/100\n",
            "40/40 [==============================] - 0s 9ms/step - loss: 0.1558 - val_loss: 0.2515\n",
            "Epoch 90/100\n",
            "40/40 [==============================] - 0s 7ms/step - loss: 0.1557 - val_loss: 0.2513\n",
            "Epoch 91/100\n",
            "40/40 [==============================] - 0s 8ms/step - loss: 0.1557 - val_loss: 0.2512\n",
            "Epoch 92/100\n",
            "40/40 [==============================] - 0s 8ms/step - loss: 0.1557 - val_loss: 0.2511\n",
            "Epoch 93/100\n",
            "40/40 [==============================] - 0s 9ms/step - loss: 0.1556 - val_loss: 0.2510\n",
            "Epoch 94/100\n",
            "40/40 [==============================] - 0s 9ms/step - loss: 0.1556 - val_loss: 0.2508\n",
            "Epoch 95/100\n",
            "40/40 [==============================] - 0s 8ms/step - loss: 0.1555 - val_loss: 0.2507\n",
            "Epoch 96/100\n",
            "40/40 [==============================] - 0s 9ms/step - loss: 0.1555 - val_loss: 0.2506\n",
            "Epoch 97/100\n",
            "40/40 [==============================] - 0s 8ms/step - loss: 0.1555 - val_loss: 0.2506\n",
            "Epoch 98/100\n",
            "40/40 [==============================] - 0s 9ms/step - loss: 0.1554 - val_loss: 0.2505\n",
            "Epoch 99/100\n",
            "40/40 [==============================] - 0s 8ms/step - loss: 0.1554 - val_loss: 0.2502\n",
            "Epoch 100/100\n",
            "40/40 [==============================] - 0s 8ms/step - loss: 0.1554 - val_loss: 0.2501\n"
          ]
        },
        {
          "output_type": "execute_result",
          "data": {
            "text/plain": [
              "<keras.callbacks.History at 0x7f446e1d3c90>"
            ]
          },
          "metadata": {},
          "execution_count": 14
        }
      ]
    },
    {
      "cell_type": "code",
      "metadata": {
        "id": "hdDvAx6Dwb0M"
      },
      "source": [
        "from sklearn import preprocessing\n",
        "min_max_scaler = preprocessing.MinMaxScaler()\n",
        "data_train = min_max_scaler.fit_transform(data_train)\n",
        "data_test = min_max_scaler.fit_transform(data_test)\n",
        "input_img = keras.Input(shape=(500,))\n",
        "\n",
        "#encoded and bottleneck layer\n",
        "encoded = layers.Dense(150, activation='relu')(input_img)\n",
        "encoded = layers.Dense(100, activation='relu')(encoded)\n",
        "encoded = layers.Dense(50, activation='relu')(encoded)\n",
        "encoded = layers.Dense(10, activation='relu')(encoded)\n",
        "\n",
        "#decoded and output layers\n",
        "decoded = layers.Dense(50, activation='relu')(encoded)\n",
        "decoded = layers.Dense(100, activation='relu')(decoded)\n",
        "decoded = layers.Dense(150, activation='relu')(decoded)\n",
        "decoded = layers.Dense(500, activation='sigmoid')(decoded)"
      ],
      "execution_count": 53,
      "outputs": []
    },
    {
      "cell_type": "code",
      "metadata": {
        "colab": {
          "base_uri": "https://localhost:8080/"
        },
        "id": "wokUNukr4AcU",
        "outputId": "910bf15b-40bf-4a8c-8d3a-63520917b6fb"
      },
      "source": [
        "autoencoder = keras.Model(input_img, decoded)\n",
        "autoencoder.compile(optimizer=tf.keras.optimizers.Adam(), loss='binary_crossentropy')\n",
        "\n",
        "autoencoder.fit(data_train, data_train, epochs=100, batch_size=256, shuffle = True, validation_data = (data_test, data_test))"
      ],
      "execution_count": 55,
      "outputs": [
        {
          "output_type": "stream",
          "name": "stdout",
          "text": [
            "Epoch 1/100\n",
            "40/40 [==============================] - 1s 20ms/step - loss: 0.4123 - val_loss: 0.3246\n",
            "Epoch 2/100\n",
            "40/40 [==============================] - 1s 17ms/step - loss: 0.1670 - val_loss: 0.4044\n",
            "Epoch 3/100\n",
            "40/40 [==============================] - 1s 16ms/step - loss: 0.1632 - val_loss: 0.3847\n",
            "Epoch 4/100\n",
            "40/40 [==============================] - 1s 18ms/step - loss: 0.1625 - val_loss: 0.3757\n",
            "Epoch 5/100\n",
            "40/40 [==============================] - 1s 17ms/step - loss: 0.1614 - val_loss: 0.3740\n",
            "Epoch 6/100\n",
            "40/40 [==============================] - 1s 17ms/step - loss: 0.1594 - val_loss: 0.3142\n",
            "Epoch 7/100\n",
            "40/40 [==============================] - 1s 16ms/step - loss: 0.1566 - val_loss: 0.2587\n",
            "Epoch 8/100\n",
            "40/40 [==============================] - 1s 16ms/step - loss: 0.1551 - val_loss: 0.2445\n",
            "Epoch 9/100\n",
            "40/40 [==============================] - 1s 16ms/step - loss: 0.1550 - val_loss: 0.2446\n",
            "Epoch 10/100\n",
            "40/40 [==============================] - 1s 16ms/step - loss: 0.1550 - val_loss: 0.2446\n",
            "Epoch 11/100\n",
            "40/40 [==============================] - 1s 17ms/step - loss: 0.1550 - val_loss: 0.2445\n",
            "Epoch 12/100\n",
            "40/40 [==============================] - 1s 16ms/step - loss: 0.1550 - val_loss: 0.2441\n",
            "Epoch 13/100\n",
            "40/40 [==============================] - 1s 17ms/step - loss: 0.1550 - val_loss: 0.2443\n",
            "Epoch 14/100\n",
            "40/40 [==============================] - 1s 16ms/step - loss: 0.1550 - val_loss: 0.2441\n",
            "Epoch 15/100\n",
            "40/40 [==============================] - 1s 16ms/step - loss: 0.1550 - val_loss: 0.2441\n",
            "Epoch 16/100\n",
            "40/40 [==============================] - 1s 16ms/step - loss: 0.1550 - val_loss: 0.2441\n",
            "Epoch 17/100\n",
            "40/40 [==============================] - 1s 16ms/step - loss: 0.1550 - val_loss: 0.2441\n",
            "Epoch 18/100\n",
            "40/40 [==============================] - 1s 16ms/step - loss: 0.1550 - val_loss: 0.2441\n",
            "Epoch 19/100\n",
            "40/40 [==============================] - 1s 16ms/step - loss: 0.1550 - val_loss: 0.2440\n",
            "Epoch 20/100\n",
            "40/40 [==============================] - 1s 16ms/step - loss: 0.1550 - val_loss: 0.2440\n",
            "Epoch 21/100\n",
            "40/40 [==============================] - 1s 17ms/step - loss: 0.1550 - val_loss: 0.2438\n",
            "Epoch 22/100\n",
            "40/40 [==============================] - 1s 15ms/step - loss: 0.1549 - val_loss: 0.2439\n",
            "Epoch 23/100\n",
            "40/40 [==============================] - 1s 16ms/step - loss: 0.1546 - val_loss: 0.2433\n",
            "Epoch 24/100\n",
            "40/40 [==============================] - 1s 16ms/step - loss: 0.1543 - val_loss: 0.2431\n",
            "Epoch 25/100\n",
            "40/40 [==============================] - 1s 17ms/step - loss: 0.1542 - val_loss: 0.2429\n",
            "Epoch 26/100\n",
            "40/40 [==============================] - 1s 17ms/step - loss: 0.1541 - val_loss: 0.2431\n",
            "Epoch 27/100\n",
            "40/40 [==============================] - 1s 17ms/step - loss: 0.1539 - val_loss: 0.2424\n",
            "Epoch 28/100\n",
            "40/40 [==============================] - 1s 18ms/step - loss: 0.1535 - val_loss: 0.2420\n",
            "Epoch 29/100\n",
            "40/40 [==============================] - 1s 17ms/step - loss: 0.1533 - val_loss: 0.2417\n",
            "Epoch 30/100\n",
            "40/40 [==============================] - 1s 17ms/step - loss: 0.1532 - val_loss: 0.2417\n",
            "Epoch 31/100\n",
            "40/40 [==============================] - 1s 17ms/step - loss: 0.1531 - val_loss: 0.2415\n",
            "Epoch 32/100\n",
            "40/40 [==============================] - 1s 17ms/step - loss: 0.1530 - val_loss: 0.2415\n",
            "Epoch 33/100\n",
            "40/40 [==============================] - 1s 18ms/step - loss: 0.1529 - val_loss: 0.2412\n",
            "Epoch 34/100\n",
            "40/40 [==============================] - 1s 17ms/step - loss: 0.1526 - val_loss: 0.2408\n",
            "Epoch 35/100\n",
            "40/40 [==============================] - 1s 16ms/step - loss: 0.1523 - val_loss: 0.2404\n",
            "Epoch 36/100\n",
            "40/40 [==============================] - 1s 17ms/step - loss: 0.1519 - val_loss: 0.2399\n",
            "Epoch 37/100\n",
            "40/40 [==============================] - 1s 16ms/step - loss: 0.1517 - val_loss: 0.2395\n",
            "Epoch 38/100\n",
            "40/40 [==============================] - 1s 16ms/step - loss: 0.1515 - val_loss: 0.2395\n",
            "Epoch 39/100\n",
            "40/40 [==============================] - 1s 17ms/step - loss: 0.1514 - val_loss: 0.2393\n",
            "Epoch 40/100\n",
            "40/40 [==============================] - 1s 16ms/step - loss: 0.1513 - val_loss: 0.2391\n",
            "Epoch 41/100\n",
            "40/40 [==============================] - 1s 16ms/step - loss: 0.1512 - val_loss: 0.2388\n",
            "Epoch 42/100\n",
            "40/40 [==============================] - 1s 16ms/step - loss: 0.1511 - val_loss: 0.2386\n",
            "Epoch 43/100\n",
            "40/40 [==============================] - 1s 17ms/step - loss: 0.1510 - val_loss: 0.2383\n",
            "Epoch 44/100\n",
            "40/40 [==============================] - 1s 16ms/step - loss: 0.1509 - val_loss: 0.2378\n",
            "Epoch 45/100\n",
            "40/40 [==============================] - 1s 16ms/step - loss: 0.1507 - val_loss: 0.2379\n",
            "Epoch 46/100\n",
            "40/40 [==============================] - 1s 17ms/step - loss: 0.1506 - val_loss: 0.2379\n",
            "Epoch 47/100\n",
            "40/40 [==============================] - 1s 16ms/step - loss: 0.1505 - val_loss: 0.2379\n",
            "Epoch 48/100\n",
            "40/40 [==============================] - 1s 16ms/step - loss: 0.1504 - val_loss: 0.2374\n",
            "Epoch 49/100\n",
            "40/40 [==============================] - 1s 16ms/step - loss: 0.1503 - val_loss: 0.2372\n",
            "Epoch 50/100\n",
            "40/40 [==============================] - 1s 16ms/step - loss: 0.1503 - val_loss: 0.2375\n",
            "Epoch 51/100\n",
            "40/40 [==============================] - 1s 17ms/step - loss: 0.1502 - val_loss: 0.2373\n",
            "Epoch 52/100\n",
            "40/40 [==============================] - 1s 17ms/step - loss: 0.1502 - val_loss: 0.2376\n",
            "Epoch 53/100\n",
            "40/40 [==============================] - 1s 17ms/step - loss: 0.1501 - val_loss: 0.2374\n",
            "Epoch 54/100\n",
            "40/40 [==============================] - 1s 16ms/step - loss: 0.1501 - val_loss: 0.2377\n",
            "Epoch 55/100\n",
            "40/40 [==============================] - 1s 17ms/step - loss: 0.1501 - val_loss: 0.2374\n",
            "Epoch 56/100\n",
            "40/40 [==============================] - 1s 17ms/step - loss: 0.1500 - val_loss: 0.2372\n",
            "Epoch 57/100\n",
            "40/40 [==============================] - 1s 16ms/step - loss: 0.1500 - val_loss: 0.2370\n",
            "Epoch 58/100\n",
            "40/40 [==============================] - 1s 16ms/step - loss: 0.1500 - val_loss: 0.2369\n",
            "Epoch 59/100\n",
            "40/40 [==============================] - 1s 16ms/step - loss: 0.1499 - val_loss: 0.2376\n",
            "Epoch 60/100\n",
            "40/40 [==============================] - 1s 16ms/step - loss: 0.1499 - val_loss: 0.2370\n",
            "Epoch 61/100\n",
            "40/40 [==============================] - 1s 16ms/step - loss: 0.1499 - val_loss: 0.2373\n",
            "Epoch 62/100\n",
            "40/40 [==============================] - 1s 17ms/step - loss: 0.1498 - val_loss: 0.2371\n",
            "Epoch 63/100\n",
            "40/40 [==============================] - 1s 16ms/step - loss: 0.1497 - val_loss: 0.2371\n",
            "Epoch 64/100\n",
            "40/40 [==============================] - 1s 16ms/step - loss: 0.1497 - val_loss: 0.2367\n",
            "Epoch 65/100\n",
            "40/40 [==============================] - 1s 16ms/step - loss: 0.1496 - val_loss: 0.2366\n",
            "Epoch 66/100\n",
            "40/40 [==============================] - 1s 17ms/step - loss: 0.1495 - val_loss: 0.2369\n",
            "Epoch 67/100\n",
            "40/40 [==============================] - 1s 16ms/step - loss: 0.1495 - val_loss: 0.2367\n",
            "Epoch 68/100\n",
            "40/40 [==============================] - 1s 17ms/step - loss: 0.1494 - val_loss: 0.2362\n",
            "Epoch 69/100\n",
            "40/40 [==============================] - 1s 17ms/step - loss: 0.1494 - val_loss: 0.2366\n",
            "Epoch 70/100\n",
            "40/40 [==============================] - 1s 17ms/step - loss: 0.1493 - val_loss: 0.2361\n",
            "Epoch 71/100\n",
            "40/40 [==============================] - 1s 17ms/step - loss: 0.1493 - val_loss: 0.2360\n",
            "Epoch 72/100\n",
            "40/40 [==============================] - 1s 17ms/step - loss: 0.1492 - val_loss: 0.2360\n",
            "Epoch 73/100\n",
            "40/40 [==============================] - 1s 17ms/step - loss: 0.1492 - val_loss: 0.2357\n",
            "Epoch 74/100\n",
            "40/40 [==============================] - 1s 16ms/step - loss: 0.1491 - val_loss: 0.2361\n",
            "Epoch 75/100\n",
            "40/40 [==============================] - 1s 17ms/step - loss: 0.1491 - val_loss: 0.2363\n",
            "Epoch 76/100\n",
            "40/40 [==============================] - 1s 17ms/step - loss: 0.1491 - val_loss: 0.2356\n",
            "Epoch 77/100\n",
            "40/40 [==============================] - 1s 17ms/step - loss: 0.1490 - val_loss: 0.2361\n",
            "Epoch 78/100\n",
            "40/40 [==============================] - 1s 16ms/step - loss: 0.1490 - val_loss: 0.2357\n",
            "Epoch 79/100\n",
            "40/40 [==============================] - 1s 17ms/step - loss: 0.1490 - val_loss: 0.2356\n",
            "Epoch 80/100\n",
            "40/40 [==============================] - 1s 17ms/step - loss: 0.1490 - val_loss: 0.2360\n",
            "Epoch 81/100\n",
            "40/40 [==============================] - 1s 17ms/step - loss: 0.1489 - val_loss: 0.2359\n",
            "Epoch 82/100\n",
            "40/40 [==============================] - 1s 17ms/step - loss: 0.1489 - val_loss: 0.2358\n",
            "Epoch 83/100\n",
            "40/40 [==============================] - 1s 17ms/step - loss: 0.1489 - val_loss: 0.2355\n",
            "Epoch 84/100\n",
            "40/40 [==============================] - 1s 16ms/step - loss: 0.1488 - val_loss: 0.2357\n",
            "Epoch 85/100\n",
            "40/40 [==============================] - 1s 16ms/step - loss: 0.1488 - val_loss: 0.2355\n",
            "Epoch 86/100\n",
            "40/40 [==============================] - 1s 16ms/step - loss: 0.1488 - val_loss: 0.2357\n",
            "Epoch 87/100\n",
            "40/40 [==============================] - 1s 16ms/step - loss: 0.1488 - val_loss: 0.2357\n",
            "Epoch 88/100\n",
            "40/40 [==============================] - 1s 17ms/step - loss: 0.1487 - val_loss: 0.2351\n",
            "Epoch 89/100\n",
            "40/40 [==============================] - 1s 18ms/step - loss: 0.1487 - val_loss: 0.2351\n",
            "Epoch 90/100\n",
            "40/40 [==============================] - 1s 16ms/step - loss: 0.1486 - val_loss: 0.2350\n",
            "Epoch 91/100\n",
            "40/40 [==============================] - 1s 15ms/step - loss: 0.1486 - val_loss: 0.2351\n",
            "Epoch 92/100\n",
            "40/40 [==============================] - 1s 17ms/step - loss: 0.1485 - val_loss: 0.2348\n",
            "Epoch 93/100\n",
            "40/40 [==============================] - 1s 17ms/step - loss: 0.1485 - val_loss: 0.2349\n",
            "Epoch 94/100\n",
            "40/40 [==============================] - 1s 16ms/step - loss: 0.1485 - val_loss: 0.2348\n",
            "Epoch 95/100\n",
            "40/40 [==============================] - 1s 17ms/step - loss: 0.1484 - val_loss: 0.2350\n",
            "Epoch 96/100\n",
            "40/40 [==============================] - 1s 18ms/step - loss: 0.1483 - val_loss: 0.2345\n",
            "Epoch 97/100\n",
            "40/40 [==============================] - 1s 16ms/step - loss: 0.1483 - val_loss: 0.2347\n",
            "Epoch 98/100\n",
            "40/40 [==============================] - 1s 17ms/step - loss: 0.1483 - val_loss: 0.2342\n",
            "Epoch 99/100\n",
            "40/40 [==============================] - 1s 16ms/step - loss: 0.1482 - val_loss: 0.2348\n",
            "Epoch 100/100\n",
            "40/40 [==============================] - 1s 17ms/step - loss: 0.1482 - val_loss: 0.2343\n"
          ]
        },
        {
          "output_type": "execute_result",
          "data": {
            "text/plain": [
              "<keras.callbacks.History at 0x7f446a1afa10>"
            ]
          },
          "metadata": {},
          "execution_count": 55
        }
      ]
    },
    {
      "cell_type": "code",
      "metadata": {
        "id": "lt02rymq53CS"
      },
      "source": [
        "decoded_imgs = autoencoder.predict(data_test)"
      ],
      "execution_count": 51,
      "outputs": []
    },
    {
      "cell_type": "code",
      "metadata": {
        "colab": {
          "base_uri": "https://localhost:8080/",
          "height": 252
        },
        "id": "NfxziBEh53Fy",
        "outputId": "911172ba-8132-4a33-f387-407f488687ad"
      },
      "source": [
        "n = 10\n",
        "plt.figure(figsize=(20, 4))\n",
        "for i in range(1, n + 1):\n",
        "    # Display original\n",
        "    ax = plt.subplot(2, n, i)\n",
        "    plt.imshow(data_test[i].reshape(50, 10))\n",
        "    plt.gray()\n",
        "    ax.get_xaxis().set_visible(False)\n",
        "    ax.get_yaxis().set_visible(False)\n",
        "\n",
        "    # Display reconstruction\n",
        "    ax = plt.subplot(2, n, i + n)\n",
        "    plt.imshow(decoded_imgs[i].reshape(50, 10))\n",
        "    plt.gray()\n",
        "    ax.get_xaxis().set_visible(False)\n",
        "    ax.get_yaxis().set_visible(False)\n",
        "plt.show()"
      ],
      "execution_count": 52,
      "outputs": [
        {
          "output_type": "display_data",
          "data": {
            "image/png": "[encoded data removed]",
            "text/plain": [
              "<Figure size 1440x288 with 20 Axes>"
            ]
          },
          "metadata": {
            "needs_background": "light"
          }
        }
      ]
    },
    {
      "cell_type": "code",
      "metadata": {
        "id": "mwW82rIv53Ii"
      },
      "source": [
        ""
      ],
      "execution_count": null,
      "outputs": []
    },
    {
      "cell_type": "code",
      "metadata": {
        "id": "FWW2D2_B53Lq"
      },
      "source": [
        "np.savetxt(\"train.csv\", data_train, delimiter=\",\")"
      ],
      "execution_count": 59,
      "outputs": []
    },
    {
      "cell_type": "code",
      "metadata": {
        "id": "EIoj4itK53OR"
      },
      "source": [
        "np.savetxt(\"test.csv\", data_test, delimiter=\",\")"
      ],
      "execution_count": 60,
      "outputs": []
    },
    {
      "cell_type": "code",
      "metadata": {
        "colab": {
          "base_uri": "https://localhost:8080/"
        },
        "id": "D1X3b-7Z53Re",
        "outputId": "5f94eb46-93b4-44f0-b0dc-f5c4c28cfcb7"
      },
      "source": [
        "import pandas as pd\n",
        "dat = pd.read_csv(\"train.csv\").values\n",
        "dat.shape"
      ],
      "execution_count": 63,
      "outputs": [
        {
          "output_type": "execute_result",
          "data": {
            "text/plain": [
              "(9999, 500)"
            ]
          },
          "metadata": {},
          "execution_count": 63
        }
      ]
    },
    {
      "cell_type": "code",
      "metadata": {
        "id": "N3Eno1yD53UN"
      },
      "source": [
        "input_img = keras.Input(shape = (50, 10, 1))\n",
        "\n",
        "x = layers.Conv2D(16, (3,3), activation = 'relu', padding = 'same')(input_img)\n",
        "x = layers.MaxPooling2D((2, 2), padding = 'same')(x)\n",
        "x = layers.Conv2D(8, (3,3), activation = 'relu', padding = 'same')(x)\n",
        "x = layers.MaxPooling2D((2, 2), padding = 'same')(x)\n",
        "x = layers.Conv2D(8, (3,3), activation = 'relu', padding = 'same')(x)\n",
        "encoded = layers.MaxPooling2D((2, 2), padding = 'same')(x)\n",
        "\n",
        "#Now the representation is (4, 4, 8), i.e 128-dimensional\n",
        "\n",
        "x = layers.Conv2D(8, (3,3), activation = 'relu', padding = 'same')(encoded)\n",
        "x = layers.UpSampling2D((2, 2))(x)\n",
        "x = layers.Conv2D(8, (3,3), activation = 'relu', padding = 'same')(x)\n",
        "x = layers.UpSampling2D((2, 2))(x)\n",
        "x = layers.Conv2D(16, (3,3), activation = 'relu')(x)\n",
        "x = layers.UpSampling2D((2, 2))(x)\n",
        "decoded = layers.Conv2D(1, (3, 3), activation = 'sigmoid', padding = 'same')(x)\n",
        "\n",
        "autoencoder = keras.Model(input_img, decoded)\n",
        "autoencoder.compile(optimizer = 'adam', loss = 'binary_crossentropy')"
      ],
      "execution_count": 19,
      "outputs": []
    },
    {
      "cell_type": "code",
      "metadata": {
        "colab": {
          "base_uri": "https://localhost:8080/"
        },
        "id": "HzJYkBMJBleg",
        "outputId": "5dbf9ceb-1d06-4379-86b4-acfb7d479c4c"
      },
      "source": [
        "data_test .shape"
      ],
      "execution_count": 26,
      "outputs": [
        {
          "output_type": "execute_result",
          "data": {
            "text/plain": [
              "(1000, 50, 10, 1)"
            ]
          },
          "metadata": {},
          "execution_count": 26
        }
      ]
    },
    {
      "cell_type": "code",
      "metadata": {
        "colab": {
          "base_uri": "https://localhost:8080/",
          "height": 1000
        },
        "id": "mbTvo8i253XV",
        "outputId": "54dd3269-fc33-4fc0-ed2e-f4607946b341"
      },
      "source": [
        "data_train = np.reshape(data_train, (len(data_train), 50, 10, 1))\n",
        "data_test = np.reshape(data_test, (len(data_test), 50, 10, 1))\n",
        "\n",
        "autoencoder.fit(data_train, data_train,\n",
        "                epochs=50,\n",
        "                batch_size=128,\n",
        "                shuffle=True,\n",
        "                validation_data=(data_test, data_test),\n",
        "                )"
      ],
      "execution_count": 24,
      "outputs": [
        {
          "output_type": "stream",
          "name": "stdout",
          "text": [
            "Epoch 1/50\n"
          ]
        },
        {
          "output_type": "error",
          "ename": "ValueError",
          "evalue": "ignored",
          "traceback": [
            "\u001b[0;31m---------------------------------------------------------------------------\u001b[0m",
            "\u001b[0;31mValueError\u001b[0m                                Traceback (most recent call last)",
            "\u001b[0;32m<ipython-input-24-bb6023791430>\u001b[0m in \u001b[0;36m<module>\u001b[0;34m()\u001b[0m\n\u001b[1;32m      5\u001b[0m                 \u001b[0mepochs\u001b[0m\u001b[0;34m=\u001b[0m\u001b[0;36m50\u001b[0m\u001b[0;34m,\u001b[0m\u001b[0;34m\u001b[0m\u001b[0;34m\u001b[0m\u001b[0m\n\u001b[1;32m      6\u001b[0m                 \u001b[0mbatch_size\u001b[0m\u001b[0;34m=\u001b[0m\u001b[0;36m128\u001b[0m\u001b[0;34m,\u001b[0m\u001b[0;34m\u001b[0m\u001b[0;34m\u001b[0m\u001b[0m\n\u001b[0;32m----> 7\u001b[0;31m                 \u001b[0mshuffle\u001b[0m\u001b[0;34m=\u001b[0m\u001b[0;32mTrue\u001b[0m\u001b[0;34m,\u001b[0m\u001b[0;34m\u001b[0m\u001b[0;34m\u001b[0m\u001b[0m\n\u001b[0m\u001b[1;32m      8\u001b[0m \u001b[0;34m\u001b[0m\u001b[0m\n\u001b[1;32m      9\u001b[0m                 )\n",
            "\u001b[0;32m/usr/local/lib/python3.7/dist-packages/keras/engine/training.py\u001b[0m in \u001b[0;36mfit\u001b[0;34m(self, x, y, batch_size, epochs, verbose, callbacks, validation_split, validation_data, shuffle, class_weight, sample_weight, initial_epoch, steps_per_epoch, validation_steps, validation_batch_size, validation_freq, max_queue_size, workers, use_multiprocessing)\u001b[0m\n\u001b[1;32m   1182\u001b[0m                 _r=1):\n\u001b[1;32m   1183\u001b[0m               \u001b[0mcallbacks\u001b[0m\u001b[0;34m.\u001b[0m\u001b[0mon_train_batch_begin\u001b[0m\u001b[0;34m(\u001b[0m\u001b[0mstep\u001b[0m\u001b[0;34m)\u001b[0m\u001b[0;34m\u001b[0m\u001b[0;34m\u001b[0m\u001b[0m\n\u001b[0;32m-> 1184\u001b[0;31m               \u001b[0mtmp_logs\u001b[0m \u001b[0;34m=\u001b[0m \u001b[0mself\u001b[0m\u001b[0;34m.\u001b[0m\u001b[0mtrain_function\u001b[0m\u001b[0;34m(\u001b[0m\u001b[0miterator\u001b[0m\u001b[0;34m)\u001b[0m\u001b[0;34m\u001b[0m\u001b[0;34m\u001b[0m\u001b[0m\n\u001b[0m\u001b[1;32m   1185\u001b[0m               \u001b[0;32mif\u001b[0m \u001b[0mdata_handler\u001b[0m\u001b[0;34m.\u001b[0m\u001b[0mshould_sync\u001b[0m\u001b[0;34m:\u001b[0m\u001b[0;34m\u001b[0m\u001b[0;34m\u001b[0m\u001b[0m\n\u001b[1;32m   1186\u001b[0m                 \u001b[0mcontext\u001b[0m\u001b[0;34m.\u001b[0m\u001b[0masync_wait\u001b[0m\u001b[0;34m(\u001b[0m\u001b[0;34m)\u001b[0m\u001b[0;34m\u001b[0m\u001b[0;34m\u001b[0m\u001b[0m\n",
            "\u001b[0;32m/usr/local/lib/python3.7/dist-packages/tensorflow/python/eager/def_function.py\u001b[0m in \u001b[0;36m__call__\u001b[0;34m(self, *args, **kwds)\u001b[0m\n\u001b[1;32m    883\u001b[0m \u001b[0;34m\u001b[0m\u001b[0m\n\u001b[1;32m    884\u001b[0m       \u001b[0;32mwith\u001b[0m \u001b[0mOptionalXlaContext\u001b[0m\u001b[0;34m(\u001b[0m\u001b[0mself\u001b[0m\u001b[0;34m.\u001b[0m\u001b[0m_jit_compile\u001b[0m\u001b[0;34m)\u001b[0m\u001b[0;34m:\u001b[0m\u001b[0;34m\u001b[0m\u001b[0;34m\u001b[0m\u001b[0m\n\u001b[0;32m--> 885\u001b[0;31m         \u001b[0mresult\u001b[0m \u001b[0;34m=\u001b[0m \u001b[0mself\u001b[0m\u001b[0;34m.\u001b[0m\u001b[0m_call\u001b[0m\u001b[0;34m(\u001b[0m\u001b[0;34m*\u001b[0m\u001b[0margs\u001b[0m\u001b[0;34m,\u001b[0m \u001b[0;34m**\u001b[0m\u001b[0mkwds\u001b[0m\u001b[0;34m)\u001b[0m\u001b[0;34m\u001b[0m\u001b[0;34m\u001b[0m\u001b[0m\n\u001b[0m\u001b[1;32m    886\u001b[0m \u001b[0;34m\u001b[0m\u001b[0m\n\u001b[1;32m    887\u001b[0m       \u001b[0mnew_tracing_count\u001b[0m \u001b[0;34m=\u001b[0m \u001b[0mself\u001b[0m\u001b[0;34m.\u001b[0m\u001b[0mexperimental_get_tracing_count\u001b[0m\u001b[0;34m(\u001b[0m\u001b[0;34m)\u001b[0m\u001b[0;34m\u001b[0m\u001b[0;34m\u001b[0m\u001b[0m\n",
            "\u001b[0;32m/usr/local/lib/python3.7/dist-packages/tensorflow/python/eager/def_function.py\u001b[0m in \u001b[0;36m_call\u001b[0;34m(self, *args, **kwds)\u001b[0m\n\u001b[1;32m    922\u001b[0m       \u001b[0;31m# In this case we have not created variables on the first call. So we can\u001b[0m\u001b[0;34m\u001b[0m\u001b[0;34m\u001b[0m\u001b[0;34m\u001b[0m\u001b[0m\n\u001b[1;32m    923\u001b[0m       \u001b[0;31m# run the first trace but we should fail if variables are created.\u001b[0m\u001b[0;34m\u001b[0m\u001b[0;34m\u001b[0m\u001b[0;34m\u001b[0m\u001b[0m\n\u001b[0;32m--> 924\u001b[0;31m       \u001b[0mresults\u001b[0m \u001b[0;34m=\u001b[0m \u001b[0mself\u001b[0m\u001b[0;34m.\u001b[0m\u001b[0m_stateful_fn\u001b[0m\u001b[0;34m(\u001b[0m\u001b[0;34m*\u001b[0m\u001b[0margs\u001b[0m\u001b[0;34m,\u001b[0m \u001b[0;34m**\u001b[0m\u001b[0mkwds\u001b[0m\u001b[0;34m)\u001b[0m\u001b[0;34m\u001b[0m\u001b[0;34m\u001b[0m\u001b[0m\n\u001b[0m\u001b[1;32m    925\u001b[0m       \u001b[0;32mif\u001b[0m \u001b[0mself\u001b[0m\u001b[0;34m.\u001b[0m\u001b[0m_created_variables\u001b[0m \u001b[0;32mand\u001b[0m \u001b[0;32mnot\u001b[0m \u001b[0mALLOW_DYNAMIC_VARIABLE_CREATION\u001b[0m\u001b[0;34m:\u001b[0m\u001b[0;34m\u001b[0m\u001b[0;34m\u001b[0m\u001b[0m\n\u001b[1;32m    926\u001b[0m         raise ValueError(\"Creating variables on a non-first call to a function\"\n",
            "\u001b[0;32m/usr/local/lib/python3.7/dist-packages/tensorflow/python/eager/function.py\u001b[0m in \u001b[0;36m__call__\u001b[0;34m(self, *args, **kwargs)\u001b[0m\n\u001b[1;32m   3036\u001b[0m     \u001b[0;32mwith\u001b[0m \u001b[0mself\u001b[0m\u001b[0;34m.\u001b[0m\u001b[0m_lock\u001b[0m\u001b[0;34m:\u001b[0m\u001b[0;34m\u001b[0m\u001b[0;34m\u001b[0m\u001b[0m\n\u001b[1;32m   3037\u001b[0m       (graph_function,\n\u001b[0;32m-> 3038\u001b[0;31m        filtered_flat_args) = self._maybe_define_function(args, kwargs)\n\u001b[0m\u001b[1;32m   3039\u001b[0m     return graph_function._call_flat(\n\u001b[1;32m   3040\u001b[0m         filtered_flat_args, captured_inputs=graph_function.captured_inputs)  # pylint: disable=protected-access\n",
            "\u001b[0;32m/usr/local/lib/python3.7/dist-packages/tensorflow/python/eager/function.py\u001b[0m in \u001b[0;36m_maybe_define_function\u001b[0;34m(self, args, kwargs)\u001b[0m\n\u001b[1;32m   3458\u001b[0m               call_context_key in self._function_cache.missed):\n\u001b[1;32m   3459\u001b[0m             return self._define_function_with_shape_relaxation(\n\u001b[0;32m-> 3460\u001b[0;31m                 args, kwargs, flat_args, filtered_flat_args, cache_key_context)\n\u001b[0m\u001b[1;32m   3461\u001b[0m \u001b[0;34m\u001b[0m\u001b[0m\n\u001b[1;32m   3462\u001b[0m           \u001b[0mself\u001b[0m\u001b[0;34m.\u001b[0m\u001b[0m_function_cache\u001b[0m\u001b[0;34m.\u001b[0m\u001b[0mmissed\u001b[0m\u001b[0;34m.\u001b[0m\u001b[0madd\u001b[0m\u001b[0;34m(\u001b[0m\u001b[0mcall_context_key\u001b[0m\u001b[0;34m)\u001b[0m\u001b[0;34m\u001b[0m\u001b[0;34m\u001b[0m\u001b[0m\n",
            "\u001b[0;32m/usr/local/lib/python3.7/dist-packages/tensorflow/python/eager/function.py\u001b[0m in \u001b[0;36m_define_function_with_shape_relaxation\u001b[0;34m(self, args, kwargs, flat_args, filtered_flat_args, cache_key_context)\u001b[0m\n\u001b[1;32m   3380\u001b[0m \u001b[0;34m\u001b[0m\u001b[0m\n\u001b[1;32m   3381\u001b[0m     graph_function = self._create_graph_function(\n\u001b[0;32m-> 3382\u001b[0;31m         args, kwargs, override_flat_arg_shapes=relaxed_arg_shapes)\n\u001b[0m\u001b[1;32m   3383\u001b[0m     \u001b[0mself\u001b[0m\u001b[0;34m.\u001b[0m\u001b[0m_function_cache\u001b[0m\u001b[0;34m.\u001b[0m\u001b[0marg_relaxed\u001b[0m\u001b[0;34m[\u001b[0m\u001b[0mrank_only_cache_key\u001b[0m\u001b[0;34m]\u001b[0m \u001b[0;34m=\u001b[0m \u001b[0mgraph_function\u001b[0m\u001b[0;34m\u001b[0m\u001b[0;34m\u001b[0m\u001b[0m\n\u001b[1;32m   3384\u001b[0m \u001b[0;34m\u001b[0m\u001b[0m\n",
            "\u001b[0;32m/usr/local/lib/python3.7/dist-packages/tensorflow/python/eager/function.py\u001b[0m in \u001b[0;36m_create_graph_function\u001b[0;34m(self, args, kwargs, override_flat_arg_shapes)\u001b[0m\n\u001b[1;32m   3306\u001b[0m             \u001b[0marg_names\u001b[0m\u001b[0;34m=\u001b[0m\u001b[0marg_names\u001b[0m\u001b[0;34m,\u001b[0m\u001b[0;34m\u001b[0m\u001b[0;34m\u001b[0m\u001b[0m\n\u001b[1;32m   3307\u001b[0m             \u001b[0moverride_flat_arg_shapes\u001b[0m\u001b[0;34m=\u001b[0m\u001b[0moverride_flat_arg_shapes\u001b[0m\u001b[0;34m,\u001b[0m\u001b[0;34m\u001b[0m\u001b[0;34m\u001b[0m\u001b[0m\n\u001b[0;32m-> 3308\u001b[0;31m             capture_by_value=self._capture_by_value),\n\u001b[0m\u001b[1;32m   3309\u001b[0m         \u001b[0mself\u001b[0m\u001b[0;34m.\u001b[0m\u001b[0m_function_attributes\u001b[0m\u001b[0;34m,\u001b[0m\u001b[0;34m\u001b[0m\u001b[0;34m\u001b[0m\u001b[0m\n\u001b[1;32m   3310\u001b[0m         \u001b[0mfunction_spec\u001b[0m\u001b[0;34m=\u001b[0m\u001b[0mself\u001b[0m\u001b[0;34m.\u001b[0m\u001b[0mfunction_spec\u001b[0m\u001b[0;34m,\u001b[0m\u001b[0;34m\u001b[0m\u001b[0;34m\u001b[0m\u001b[0m\n",
            "\u001b[0;32m/usr/local/lib/python3.7/dist-packages/tensorflow/python/framework/func_graph.py\u001b[0m in \u001b[0;36mfunc_graph_from_py_func\u001b[0;34m(name, python_func, args, kwargs, signature, func_graph, autograph, autograph_options, add_control_dependencies, arg_names, op_return_value, collections, capture_by_value, override_flat_arg_shapes, acd_record_initial_resource_uses)\u001b[0m\n\u001b[1;32m   1005\u001b[0m         \u001b[0m_\u001b[0m\u001b[0;34m,\u001b[0m \u001b[0moriginal_func\u001b[0m \u001b[0;34m=\u001b[0m \u001b[0mtf_decorator\u001b[0m\u001b[0;34m.\u001b[0m\u001b[0munwrap\u001b[0m\u001b[0;34m(\u001b[0m\u001b[0mpython_func\u001b[0m\u001b[0;34m)\u001b[0m\u001b[0;34m\u001b[0m\u001b[0;34m\u001b[0m\u001b[0m\n\u001b[1;32m   1006\u001b[0m \u001b[0;34m\u001b[0m\u001b[0m\n\u001b[0;32m-> 1007\u001b[0;31m       \u001b[0mfunc_outputs\u001b[0m \u001b[0;34m=\u001b[0m \u001b[0mpython_func\u001b[0m\u001b[0;34m(\u001b[0m\u001b[0;34m*\u001b[0m\u001b[0mfunc_args\u001b[0m\u001b[0;34m,\u001b[0m \u001b[0;34m**\u001b[0m\u001b[0mfunc_kwargs\u001b[0m\u001b[0;34m)\u001b[0m\u001b[0;34m\u001b[0m\u001b[0;34m\u001b[0m\u001b[0m\n\u001b[0m\u001b[1;32m   1008\u001b[0m \u001b[0;34m\u001b[0m\u001b[0m\n\u001b[1;32m   1009\u001b[0m       \u001b[0;31m# invariant: `func_outputs` contains only Tensors, CompositeTensors,\u001b[0m\u001b[0;34m\u001b[0m\u001b[0;34m\u001b[0m\u001b[0;34m\u001b[0m\u001b[0m\n",
            "\u001b[0;32m/usr/local/lib/python3.7/dist-packages/tensorflow/python/eager/def_function.py\u001b[0m in \u001b[0;36mwrapped_fn\u001b[0;34m(*args, **kwds)\u001b[0m\n\u001b[1;32m    666\u001b[0m         \u001b[0;31m# the function a weak reference to itself to avoid a reference cycle.\u001b[0m\u001b[0;34m\u001b[0m\u001b[0;34m\u001b[0m\u001b[0;34m\u001b[0m\u001b[0m\n\u001b[1;32m    667\u001b[0m         \u001b[0;32mwith\u001b[0m \u001b[0mOptionalXlaContext\u001b[0m\u001b[0;34m(\u001b[0m\u001b[0mcompile_with_xla\u001b[0m\u001b[0;34m)\u001b[0m\u001b[0;34m:\u001b[0m\u001b[0;34m\u001b[0m\u001b[0;34m\u001b[0m\u001b[0m\n\u001b[0;32m--> 668\u001b[0;31m           \u001b[0mout\u001b[0m \u001b[0;34m=\u001b[0m \u001b[0mweak_wrapped_fn\u001b[0m\u001b[0;34m(\u001b[0m\u001b[0;34m)\u001b[0m\u001b[0;34m.\u001b[0m\u001b[0m__wrapped__\u001b[0m\u001b[0;34m(\u001b[0m\u001b[0;34m*\u001b[0m\u001b[0margs\u001b[0m\u001b[0;34m,\u001b[0m \u001b[0;34m**\u001b[0m\u001b[0mkwds\u001b[0m\u001b[0;34m)\u001b[0m\u001b[0;34m\u001b[0m\u001b[0;34m\u001b[0m\u001b[0m\n\u001b[0m\u001b[1;32m    669\u001b[0m         \u001b[0;32mreturn\u001b[0m \u001b[0mout\u001b[0m\u001b[0;34m\u001b[0m\u001b[0;34m\u001b[0m\u001b[0m\n\u001b[1;32m    670\u001b[0m \u001b[0;34m\u001b[0m\u001b[0m\n",
            "\u001b[0;32m/usr/local/lib/python3.7/dist-packages/tensorflow/python/framework/func_graph.py\u001b[0m in \u001b[0;36mwrapper\u001b[0;34m(*args, **kwargs)\u001b[0m\n\u001b[1;32m    992\u001b[0m           \u001b[0;32mexcept\u001b[0m \u001b[0mException\u001b[0m \u001b[0;32mas\u001b[0m \u001b[0me\u001b[0m\u001b[0;34m:\u001b[0m  \u001b[0;31m# pylint:disable=broad-except\u001b[0m\u001b[0;34m\u001b[0m\u001b[0;34m\u001b[0m\u001b[0m\n\u001b[1;32m    993\u001b[0m             \u001b[0;32mif\u001b[0m \u001b[0mhasattr\u001b[0m\u001b[0;34m(\u001b[0m\u001b[0me\u001b[0m\u001b[0;34m,\u001b[0m \u001b[0;34m\"ag_error_metadata\"\u001b[0m\u001b[0;34m)\u001b[0m\u001b[0;34m:\u001b[0m\u001b[0;34m\u001b[0m\u001b[0;34m\u001b[0m\u001b[0m\n\u001b[0;32m--> 994\u001b[0;31m               \u001b[0;32mraise\u001b[0m \u001b[0me\u001b[0m\u001b[0;34m.\u001b[0m\u001b[0mag_error_metadata\u001b[0m\u001b[0;34m.\u001b[0m\u001b[0mto_exception\u001b[0m\u001b[0;34m(\u001b[0m\u001b[0me\u001b[0m\u001b[0;34m)\u001b[0m\u001b[0;34m\u001b[0m\u001b[0;34m\u001b[0m\u001b[0m\n\u001b[0m\u001b[1;32m    995\u001b[0m             \u001b[0;32melse\u001b[0m\u001b[0;34m:\u001b[0m\u001b[0;34m\u001b[0m\u001b[0;34m\u001b[0m\u001b[0m\n\u001b[1;32m    996\u001b[0m               \u001b[0;32mraise\u001b[0m\u001b[0;34m\u001b[0m\u001b[0;34m\u001b[0m\u001b[0m\n",
            "\u001b[0;31mValueError\u001b[0m: in user code:\n\n    /usr/local/lib/python3.7/dist-packages/keras/engine/training.py:853 train_function  *\n        return step_function(self, iterator)\n    /usr/local/lib/python3.7/dist-packages/keras/engine/training.py:842 step_function  **\n        outputs = model.distribute_strategy.run(run_step, args=(data,))\n    /usr/local/lib/python3.7/dist-packages/tensorflow/python/distribute/distribute_lib.py:1286 run\n        return self._extended.call_for_each_replica(fn, args=args, kwargs=kwargs)\n    /usr/local/lib/python3.7/dist-packages/tensorflow/python/distribute/distribute_lib.py:2849 call_for_each_replica\n        return self._call_for_each_replica(fn, args, kwargs)\n    /usr/local/lib/python3.7/dist-packages/tensorflow/python/distribute/distribute_lib.py:3632 _call_for_each_replica\n        return fn(*args, **kwargs)\n    /usr/local/lib/python3.7/dist-packages/keras/engine/training.py:835 run_step  **\n        outputs = model.train_step(data)\n    /usr/local/lib/python3.7/dist-packages/keras/engine/training.py:789 train_step\n        y, y_pred, sample_weight, regularization_losses=self.losses)\n    /usr/local/lib/python3.7/dist-packages/keras/engine/compile_utils.py:201 __call__\n        loss_value = loss_obj(y_t, y_p, sample_weight=sw)\n    /usr/local/lib/python3.7/dist-packages/keras/losses.py:141 __call__\n        losses = call_fn(y_true, y_pred)\n    /usr/local/lib/python3.7/dist-packages/keras/losses.py:245 call  **\n        return ag_fn(y_true, y_pred, **self._fn_kwargs)\n    /usr/local/lib/python3.7/dist-packages/tensorflow/python/util/dispatch.py:206 wrapper\n        return target(*args, **kwargs)\n    /usr/local/lib/python3.7/dist-packages/keras/losses.py:1809 binary_crossentropy\n        backend.binary_crossentropy(y_true, y_pred, from_logits=from_logits),\n    /usr/local/lib/python3.7/dist-packages/tensorflow/python/util/dispatch.py:206 wrapper\n        return target(*args, **kwargs)\n    /usr/local/lib/python3.7/dist-packages/keras/backend.py:5000 binary_crossentropy\n        return tf.nn.sigmoid_cross_entropy_with_logits(labels=target, logits=output)\n    /usr/local/lib/python3.7/dist-packages/tensorflow/python/util/dispatch.py:206 wrapper\n        return target(*args, **kwargs)\n    /usr/local/lib/python3.7/dist-packages/tensorflow/python/ops/nn_impl.py:246 sigmoid_cross_entropy_with_logits_v2\n        logits=logits, labels=labels, name=name)\n    /usr/local/lib/python3.7/dist-packages/tensorflow/python/util/dispatch.py:206 wrapper\n        return target(*args, **kwargs)\n    /usr/local/lib/python3.7/dist-packages/tensorflow/python/ops/nn_impl.py:133 sigmoid_cross_entropy_with_logits\n        (logits.get_shape(), labels.get_shape()))\n\n    ValueError: logits and labels must have the same shape ((None, 52, 12, 1) vs (None, 50, 10, 1))\n"
          ]
        }
      ]
    },
    {
      "cell_type": "code",
      "metadata": {
        "id": "elcBa0CG53aC"
      },
      "source": [
        ""
      ],
      "execution_count": null,
      "outputs": []
    },
    {
      "cell_type": "code",
      "metadata": {
        "id": "bMljSQ4L53c5"
      },
      "source": [
        ""
      ],
      "execution_count": null,
      "outputs": []
    }
  ]
}