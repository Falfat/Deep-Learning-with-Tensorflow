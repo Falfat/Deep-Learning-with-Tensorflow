{
  "nbformat": 4,
  "nbformat_minor": 0,
  "metadata": {
    "colab": {
      "name": "Rock_Facies_Generation_Using_Autoencoders.ipynb",
      "provenance": [],
      "collapsed_sections": []
    },
    "kernelspec": {
      "name": "python3",
      "display_name": "Python 3"
    },
    "language_info": {
      "name": "python"
    }
  },
  "cells": [
    {
      "cell_type": "code",
      "metadata": {
        "id": "XuYMuLg4gufM"
      },
      "source": [
        "import tensorflow as tf\n",
        "import numpy as np\n",
        "import matplotlib.pyplot as plt\n",
        "import keras\n",
        "from keras import layers"
      ],
      "execution_count": null,
      "outputs": []
    },
    {
      "cell_type": "code",
      "metadata": {
        "id": "W0Mzqvzf5ega"
      },
      "source": [
        "import random\n",
        "random.seed(42)"
      ],
      "execution_count": null,
      "outputs": []
    },
    {
      "cell_type": "code",
      "metadata": {
        "id": "mOT0haOUnxT3"
      },
      "source": [
        "def randNums(a,b,s):\n",
        "    #finds n random ints in [a,b] with sum of s\n",
        "    import numpy\n",
        "    #select the number of layers randomly\n",
        "    n = np.random.randint(3, 8, 1)\n",
        "    hit = False\n",
        "    while not hit:\n",
        "      #declare number of layers and total thickness\n",
        "        total, count = 0,0\n",
        "      #declare a list to store the thicknesses\n",
        "        nums = []\n",
        "      #if the sum of the thicknesses is less than required\n",
        "      #and number of layers is less tha  required\n",
        "        while total < s and count < n:\n",
        "          #generate a random number of layers\n",
        "            r = np.random.randint(a,b)\n",
        "            #add to total\n",
        "            total += r\n",
        "            #add 1 count\n",
        "            count += 1\n",
        "            #append to list\n",
        "            nums.append(r)\n",
        "        #if either of the 2 conditions are fulfiled, stop.\n",
        "        if total == s and count == n: hit = True\n",
        "    return nums"
      ],
      "execution_count": null,
      "outputs": []
    },
    {
      "cell_type": "code",
      "metadata": {
        "id": "u7iyDh9jpDRA"
      },
      "source": [
        ""
      ],
      "execution_count": null,
      "outputs": []
    },
    {
      "cell_type": "code",
      "metadata": {
        "colab": {
          "base_uri": "https://localhost:8080/"
        },
        "id": "se1pyVoCqDmn",
        "outputId": "6b81305a-9c3d-4217-d54b-6ddf0579004e"
      },
      "source": [
        "#generate 10,000 train test data\n",
        "ls = []\n",
        "\n",
        "for i in range(10000):\n",
        "  a = randNums(5, 25, 50)\n",
        "  global_main = np.zeros((a[0], 10))\n",
        "  for i in range(global_main.shape[0]):\n",
        "    global_main[i].fill(np.random.lognormal(2.5, 1))\n",
        "  for i in range(1, len(a)):\n",
        "    new = np.zeros((a[i], 10))\n",
        "    for i in range(new.shape[0]):\n",
        "      new[i].fill(np.random.lognormal(2.5, 1))\n",
        "    global_main = np.concatenate((global_main, new), axis=0)\n",
        "  ls.append(global_main)\n",
        "\n",
        "len(ls)\n",
        "data_train = np.array(ls)\n",
        "data_train.shape\n"
      ],
      "execution_count": null,
      "outputs": [
        {
          "output_type": "execute_result",
          "data": {
            "text/plain": [
              "(10000, 50, 10)"
            ]
          },
          "metadata": {},
          "execution_count": 5
        }
      ]
    },
    {
      "cell_type": "code",
      "metadata": {
        "colab": {
          "base_uri": "https://localhost:8080/"
        },
        "id": "aYzccaPGqWSA",
        "outputId": "3393387a-5936-417a-fa4a-8a29405863bf"
      },
      "source": [
        "#generate 1000 test test data\n",
        "ls = []\n",
        "\n",
        "for i in range(1000):\n",
        "  a = randNums(5, 25, 50)\n",
        "  global_main = np.zeros((a[0], 10))\n",
        "  for i in range(global_main.shape[0]):\n",
        "    global_main[i].fill(np.random.lognormal(2.5, 1))\n",
        "  for i in range(1, len(a)):\n",
        "    new = np.zeros((a[i], 10))\n",
        "    for i in range(new.shape[0]):\n",
        "      new[i].fill(np.random.lognormal(2.5, 1))\n",
        "    global_main = np.concatenate((global_main, new), axis=0)\n",
        "  ls.append(global_main)\n",
        "\n",
        "len(ls)\n",
        "data_test = np.array(ls)\n",
        "data_test.shape"
      ],
      "execution_count": null,
      "outputs": [
        {
          "output_type": "execute_result",
          "data": {
            "text/plain": [
              "(1000, 50, 10)"
            ]
          },
          "metadata": {},
          "execution_count": 6
        }
      ]
    },
    {
      "cell_type": "code",
      "metadata": {
        "colab": {
          "base_uri": "https://localhost:8080/",
          "height": 267
        },
        "id": "gQAJDao8xbU5",
        "outputId": "5dd29e62-8737-4b7f-eac1-08a0f24f5077"
      },
      "source": [
        "#view thw geological model\n",
        "plt.imshow(data_train[0], cmap='hot', interpolation='nearest')\n",
        "plt.show()"
      ],
      "execution_count": null,
      "outputs": [
        {
          "output_type": "display_data",
          "data": {
            "image/png": "[encoded data removed]",
            "text/plain": [
              "<Figure size 432x288 with 1 Axes>"
            ]
          },
          "metadata": {
            "needs_background": "light"
          }
        }
      ]
    },
    {
      "cell_type": "code",
      "metadata": {
        "id": "rzvqvedpW3Qj"
      },
      "source": [
        "#flatten data\n",
        "data_train = data_train.reshape((len(data_train), np.prod(data_train.shape[1:])))\n",
        "data_test = data_test.reshape((len(data_test), np.prod(data_test.shape[1:])))"
      ],
      "execution_count": null,
      "outputs": []
    },
    {
      "cell_type": "code",
      "metadata": {
        "colab": {
          "base_uri": "https://localhost:8080/"
        },
        "id": "6ibVygMguwis",
        "outputId": "2c014ace-ab1c-420e-f99f-df8947113155"
      },
      "source": [
        "data_train.shape"
      ],
      "execution_count": null,
      "outputs": [
        {
          "output_type": "execute_result",
          "data": {
            "text/plain": [
              "(10000, 500)"
            ]
          },
          "metadata": {},
          "execution_count": 10
        }
      ]
    },
    {
      "cell_type": "code",
      "metadata": {
        "id": "hdDvAx6Dwb0M"
      },
      "source": [
        "from sklearn import preprocessing\n",
        "min_max_scaler = preprocessing.MinMaxScaler()\n",
        "data_train = min_max_scaler.fit_transform(data_train)\n",
        "data_test = min_max_scaler.fit_transform(data_test)\n",
        "input_img = keras.Input(shape=(500,))\n",
        "\n",
        "#encoded and bottleneck layer\n",
        "encoded = layers.Dense(100, activation='relu')(input_img)\n",
        "encoded = layers.Dense(50, activation='relu')(encoded)\n",
        "encoded = layers.Dense(10, activation='relu')(encoded)\n",
        "\n",
        "#decoded and output layers\n",
        "decoded = layers.Dense(50, activation='relu')(encoded)\n",
        "decoded = layers.Dense(100, activation='relu')(decoded)\n",
        "decoded = layers.Dense(500, activation='softmax')(decoded)"
      ],
      "execution_count": null,
      "outputs": []
    },
    {
      "cell_type": "code",
      "metadata": {
        "colab": {
          "base_uri": "https://localhost:8080/"
        },
        "id": "wokUNukr4AcU",
        "outputId": "8ce525a6-3cd2-49eb-c5fa-4a1128c8062b"
      },
      "source": [
        "autoencoder = keras.Model(input_img, decoded)\n",
        "autoencoder.compile(optimizer=tf.keras.optimizers.Adam(lr=1e-4), loss=tf.keras.losses.BinaryCrossentropy(), metrics='accuracy')\n",
        "\n",
        "autoencoder.fit(data_train, data_train, epochs=100, batch_size=100, shuffle = True, validation_data = (data_test, data_test), verbose=0)"
      ],
      "execution_count": null,
      "outputs": [
        {
          "output_type": "stream",
          "name": "stderr",
          "text": [
            "/usr/local/lib/python3.7/dist-packages/keras/optimizer_v2/optimizer_v2.py:356: UserWarning: The `lr` argument is deprecated, use `learning_rate` instead.\n",
            "  \"The `lr` argument is deprecated, use `learning_rate` instead.\")\n"
          ]
        },
        {
          "output_type": "execute_result",
          "data": {
            "text/plain": [
              "<keras.callbacks.History at 0x7f5ca58c92d0>"
            ]
          },
          "metadata": {},
          "execution_count": 12
        }
      ]
    },
    {
      "cell_type": "code",
      "metadata": {
        "id": "lt02rymq53CS"
      },
      "source": [
        "decoded_imgs = autoencoder.predict(data_test)"
      ],
      "execution_count": null,
      "outputs": []
    },
    {
      "cell_type": "code",
      "metadata": {
        "colab": {
          "base_uri": "https://localhost:8080/"
        },
        "id": "tJcR-1Ij3ZjT",
        "outputId": "bde5c464-ab3a-4e13-98cc-206e448716d5"
      },
      "source": [
        "autoencoder.evaluate(data_test, decoded_imgs)"
      ],
      "execution_count": null,
      "outputs": [
        {
          "output_type": "stream",
          "name": "stdout",
          "text": [
            "32/32 [==============================] - 0s 2ms/step - loss: 0.0840 - accuracy: 1.0000\n"
          ]
        },
        {
          "output_type": "execute_result",
          "data": {
            "text/plain": [
              "[0.08401557058095932, 1.0]"
            ]
          },
          "metadata": {},
          "execution_count": 14
        }
      ]
    },
    {
      "cell_type": "code",
      "metadata": {
        "colab": {
          "base_uri": "https://localhost:8080/",
          "height": 252
        },
        "id": "NfxziBEh53Fy",
        "outputId": "46373e76-ba7f-4d4f-fdf1-896e0cee1902"
      },
      "source": [
        "n = 10\n",
        "plt.figure(figsize=(20, 4))\n",
        "for i in range(1, n + 1):\n",
        "    # Display original\n",
        "    ax = plt.subplot(2, n, i)\n",
        "    plt.imshow(data_test[i].reshape(50, 10))\n",
        "    plt.gray()\n",
        "    ax.get_xaxis().set_visible(False)\n",
        "    ax.get_yaxis().set_visible(False)\n",
        "\n",
        "    # Display reconstruction\n",
        "    ax = plt.subplot(2, n, i + n)\n",
        "    plt.imshow(decoded_imgs[i].reshape(50, 10))\n",
        "    plt.gray()\n",
        "    ax.get_xaxis().set_visible(False)\n",
        "    ax.get_yaxis().set_visible(False)\n",
        "plt.show()"
      ],
      "execution_count": null,
      "outputs": [
        {
          "output_type": "display_data",
          "data": {
            "image/png": "[encoded data removed]",
            "text/plain": [
              "<Figure size 1440x288 with 20 Axes>"
            ]
          },
          "metadata": {
            "needs_background": "light"
          }
        }
      ]
    },
    {
      "cell_type": "code",
      "metadata": {
        "id": "elcBa0CG53aC"
      },
      "source": [
        ""
      ],
      "execution_count": null,
      "outputs": []
    },
    {
      "cell_type": "code",
      "metadata": {
        "id": "bMljSQ4L53c5"
      },
      "source": [
        ""
      ],
      "execution_count": null,
      "outputs": []
    }
  ]
}